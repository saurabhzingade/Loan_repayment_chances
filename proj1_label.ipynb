{
  "nbformat": 4,
  "nbformat_minor": 0,
  "metadata": {
    "colab": {
      "name": "proj1_label.ipynb",
      "provenance": [],
      "collapsed_sections": []
    },
    "kernelspec": {
      "name": "python3",
      "display_name": "Python 3"
    }
  },
  "cells": [
    {
      "cell_type": "code",
      "metadata": {
        "id": "vF4qsX3j9TMz",
        "colab_type": "code",
        "colab": {}
      },
      "source": [
        "import pandas as pd\n",
        "import numpy as np\n",
        "import matplotlib.pyplot as plt\n",
        "import seaborn as sns"
      ],
      "execution_count": 0,
      "outputs": []
    },
    {
      "cell_type": "code",
      "metadata": {
        "id": "6xQhX-Rn-H2v",
        "colab_type": "code",
        "colab": {}
      },
      "source": [
        "df =pd.read_csv('/content/lending_club_loan_two.csv')"
      ],
      "execution_count": 0,
      "outputs": []
    },
    {
      "cell_type": "code",
      "metadata": {
        "id": "0bq_tgdqB9YI",
        "colab_type": "code",
        "outputId": "439aba85-734c-47ca-e9a5-a9c6a1817918",
        "colab": {
          "base_uri": "https://localhost:8080/",
          "height": 649
        }
      },
      "source": [
        "df.info()"
      ],
      "execution_count": 0,
      "outputs": [
        {
          "output_type": "stream",
          "text": [
            "<class 'pandas.core.frame.DataFrame'>\n",
            "RangeIndex: 396030 entries, 0 to 396029\n",
            "Data columns (total 27 columns):\n",
            " #   Column                Non-Null Count   Dtype  \n",
            "---  ------                --------------   -----  \n",
            " 0   loan_amnt             396030 non-null  float64\n",
            " 1   term                  396030 non-null  object \n",
            " 2   int_rate              396030 non-null  float64\n",
            " 3   installment           396030 non-null  float64\n",
            " 4   grade                 396030 non-null  object \n",
            " 5   sub_grade             396030 non-null  object \n",
            " 6   emp_title             373103 non-null  object \n",
            " 7   emp_length            377729 non-null  object \n",
            " 8   home_ownership        396030 non-null  object \n",
            " 9   annual_inc            396030 non-null  float64\n",
            " 10  verification_status   396030 non-null  object \n",
            " 11  issue_d               396030 non-null  object \n",
            " 12  loan_status           396030 non-null  object \n",
            " 13  purpose               396030 non-null  object \n",
            " 14  title                 394275 non-null  object \n",
            " 15  dti                   396030 non-null  float64\n",
            " 16  earliest_cr_line      396030 non-null  object \n",
            " 17  open_acc              396030 non-null  float64\n",
            " 18  pub_rec               396030 non-null  float64\n",
            " 19  revol_bal             396030 non-null  float64\n",
            " 20  revol_util            395754 non-null  float64\n",
            " 21  total_acc             396030 non-null  float64\n",
            " 22  initial_list_status   396030 non-null  object \n",
            " 23  application_type      396030 non-null  object \n",
            " 24  mort_acc              358235 non-null  float64\n",
            " 25  pub_rec_bankruptcies  395495 non-null  float64\n",
            " 26  address               396030 non-null  object \n",
            "dtypes: float64(12), object(15)\n",
            "memory usage: 81.6+ MB\n"
          ],
          "name": "stdout"
        }
      ]
    },
    {
      "cell_type": "code",
      "metadata": {
        "id": "XZdHP61KCAyE",
        "colab_type": "code",
        "outputId": "6a0a7af2-70a7-45d1-b1e8-2fb48023f330",
        "colab": {
          "base_uri": "https://localhost:8080/",
          "height": 538
        }
      },
      "source": [
        "df.isna().sum()"
      ],
      "execution_count": 0,
      "outputs": [
        {
          "output_type": "execute_result",
          "data": {
            "text/plain": [
              "loan_amnt                   0\n",
              "term                        0\n",
              "int_rate                    0\n",
              "installment                 0\n",
              "grade                       0\n",
              "sub_grade                   0\n",
              "emp_title               22927\n",
              "emp_length              18301\n",
              "home_ownership              0\n",
              "annual_inc                  0\n",
              "verification_status         0\n",
              "issue_d                     0\n",
              "loan_status                 0\n",
              "purpose                     0\n",
              "title                    1755\n",
              "dti                         0\n",
              "earliest_cr_line            0\n",
              "open_acc                    0\n",
              "pub_rec                     0\n",
              "revol_bal                   0\n",
              "revol_util                276\n",
              "total_acc                   0\n",
              "initial_list_status         0\n",
              "application_type            0\n",
              "mort_acc                37795\n",
              "pub_rec_bankruptcies      535\n",
              "address                     0\n",
              "dtype: int64"
            ]
          },
          "metadata": {
            "tags": []
          },
          "execution_count": 217
        }
      ]
    },
    {
      "cell_type": "code",
      "metadata": {
        "id": "Iw1EnR8OCEVk",
        "colab_type": "code",
        "colab": {}
      },
      "source": [
        "df['loan_repaid']=df['loan_status'].map({'Fully Paid':int(1),'Charged Off' :int(0)})"
      ],
      "execution_count": 0,
      "outputs": []
    },
    {
      "cell_type": "code",
      "metadata": {
        "id": "LijJ4YYlCKBm",
        "colab_type": "code",
        "outputId": "5a64eec7-1ac7-41bc-ddb8-490ba064d036",
        "colab": {
          "base_uri": "https://localhost:8080/",
          "height": 423
        }
      },
      "source": [
        "df[['loan_repaid','loan_status']]"
      ],
      "execution_count": 0,
      "outputs": [
        {
          "output_type": "execute_result",
          "data": {
            "text/html": [
              "<div>\n",
              "<style scoped>\n",
              "    .dataframe tbody tr th:only-of-type {\n",
              "        vertical-align: middle;\n",
              "    }\n",
              "\n",
              "    .dataframe tbody tr th {\n",
              "        vertical-align: top;\n",
              "    }\n",
              "\n",
              "    .dataframe thead th {\n",
              "        text-align: right;\n",
              "    }\n",
              "</style>\n",
              "<table border=\"1\" class=\"dataframe\">\n",
              "  <thead>\n",
              "    <tr style=\"text-align: right;\">\n",
              "      <th></th>\n",
              "      <th>loan_repaid</th>\n",
              "      <th>loan_status</th>\n",
              "    </tr>\n",
              "  </thead>\n",
              "  <tbody>\n",
              "    <tr>\n",
              "      <th>0</th>\n",
              "      <td>1</td>\n",
              "      <td>Fully Paid</td>\n",
              "    </tr>\n",
              "    <tr>\n",
              "      <th>1</th>\n",
              "      <td>1</td>\n",
              "      <td>Fully Paid</td>\n",
              "    </tr>\n",
              "    <tr>\n",
              "      <th>2</th>\n",
              "      <td>1</td>\n",
              "      <td>Fully Paid</td>\n",
              "    </tr>\n",
              "    <tr>\n",
              "      <th>3</th>\n",
              "      <td>1</td>\n",
              "      <td>Fully Paid</td>\n",
              "    </tr>\n",
              "    <tr>\n",
              "      <th>4</th>\n",
              "      <td>0</td>\n",
              "      <td>Charged Off</td>\n",
              "    </tr>\n",
              "    <tr>\n",
              "      <th>...</th>\n",
              "      <td>...</td>\n",
              "      <td>...</td>\n",
              "    </tr>\n",
              "    <tr>\n",
              "      <th>396025</th>\n",
              "      <td>1</td>\n",
              "      <td>Fully Paid</td>\n",
              "    </tr>\n",
              "    <tr>\n",
              "      <th>396026</th>\n",
              "      <td>1</td>\n",
              "      <td>Fully Paid</td>\n",
              "    </tr>\n",
              "    <tr>\n",
              "      <th>396027</th>\n",
              "      <td>1</td>\n",
              "      <td>Fully Paid</td>\n",
              "    </tr>\n",
              "    <tr>\n",
              "      <th>396028</th>\n",
              "      <td>1</td>\n",
              "      <td>Fully Paid</td>\n",
              "    </tr>\n",
              "    <tr>\n",
              "      <th>396029</th>\n",
              "      <td>1</td>\n",
              "      <td>Fully Paid</td>\n",
              "    </tr>\n",
              "  </tbody>\n",
              "</table>\n",
              "<p>396030 rows × 2 columns</p>\n",
              "</div>"
            ],
            "text/plain": [
              "        loan_repaid  loan_status\n",
              "0                 1   Fully Paid\n",
              "1                 1   Fully Paid\n",
              "2                 1   Fully Paid\n",
              "3                 1   Fully Paid\n",
              "4                 0  Charged Off\n",
              "...             ...          ...\n",
              "396025            1   Fully Paid\n",
              "396026            1   Fully Paid\n",
              "396027            1   Fully Paid\n",
              "396028            1   Fully Paid\n",
              "396029            1   Fully Paid\n",
              "\n",
              "[396030 rows x 2 columns]"
            ]
          },
          "metadata": {
            "tags": []
          },
          "execution_count": 219
        }
      ]
    },
    {
      "cell_type": "code",
      "metadata": {
        "id": "QcJg8cXuCMn1",
        "colab_type": "code",
        "outputId": "3b7b9eef-2011-48cd-e48c-60a0531e5a04",
        "colab": {
          "base_uri": "https://localhost:8080/",
          "height": 714
        }
      },
      "source": [
        "plt.figure(figsize=(10,10))\n",
        "\n",
        "sns.heatmap(df.corr(),annot=True)"
      ],
      "execution_count": 0,
      "outputs": [
        {
          "output_type": "execute_result",
          "data": {
            "text/plain": [
              "<matplotlib.axes._subplots.AxesSubplot at 0x7fdfd61bf6d8>"
            ]
          },
          "metadata": {
            "tags": []
          },
          "execution_count": 220
        },
        {
          "output_type": "display_data",
          "data": {
            "image/png": "[encoded data removed]",
            "text/plain": [
              "<Figure size 720x720 with 2 Axes>"
            ]
          },
          "metadata": {
            "tags": [],
            "needs_background": "light"
          }
        }
      ]
    },
    {
      "cell_type": "code",
      "metadata": {
        "id": "3m0wYvkJCneG",
        "colab_type": "code",
        "outputId": "e7c53e03-0d53-447e-e4bf-244b7161f254",
        "colab": {
          "base_uri": "https://localhost:8080/",
          "height": 556
        }
      },
      "source": [
        "df.isna().sum()"
      ],
      "execution_count": 0,
      "outputs": [
        {
          "output_type": "execute_result",
          "data": {
            "text/plain": [
              "loan_amnt                   0\n",
              "term                        0\n",
              "int_rate                    0\n",
              "installment                 0\n",
              "grade                       0\n",
              "sub_grade                   0\n",
              "emp_title               22927\n",
              "emp_length              18301\n",
              "home_ownership              0\n",
              "annual_inc                  0\n",
              "verification_status         0\n",
              "issue_d                     0\n",
              "loan_status                 0\n",
              "purpose                     0\n",
              "title                    1755\n",
              "dti                         0\n",
              "earliest_cr_line            0\n",
              "open_acc                    0\n",
              "pub_rec                     0\n",
              "revol_bal                   0\n",
              "revol_util                276\n",
              "total_acc                   0\n",
              "initial_list_status         0\n",
              "application_type            0\n",
              "mort_acc                37795\n",
              "pub_rec_bankruptcies      535\n",
              "address                     0\n",
              "loan_repaid                 0\n",
              "dtype: int64"
            ]
          },
          "metadata": {
            "tags": []
          },
          "execution_count": 221
        }
      ]
    },
    {
      "cell_type": "code",
      "metadata": {
        "id": "F_iGyHVgCqKt",
        "colab_type": "code",
        "colab": {}
      },
      "source": [
        "df['loan_repaid']=df['loan_status'].map({'Fully Paid':1,'Charged Off' :0})"
      ],
      "execution_count": 0,
      "outputs": []
    },
    {
      "cell_type": "code",
      "metadata": {
        "id": "FYfbt9EjCvMj",
        "colab_type": "code",
        "outputId": "4f50ca93-c0a2-4cd3-888c-624e096f8d2b",
        "colab": {
          "base_uri": "https://localhost:8080/",
          "height": 423
        }
      },
      "source": [
        "df[['loan_repaid','loan_status']]"
      ],
      "execution_count": 0,
      "outputs": [
        {
          "output_type": "execute_result",
          "data": {
            "text/html": [
              "<div>\n",
              "<style scoped>\n",
              "    .dataframe tbody tr th:only-of-type {\n",
              "        vertical-align: middle;\n",
              "    }\n",
              "\n",
              "    .dataframe tbody tr th {\n",
              "        vertical-align: top;\n",
              "    }\n",
              "\n",
              "    .dataframe thead th {\n",
              "        text-align: right;\n",
              "    }\n",
              "</style>\n",
              "<table border=\"1\" class=\"dataframe\">\n",
              "  <thead>\n",
              "    <tr style=\"text-align: right;\">\n",
              "      <th></th>\n",
              "      <th>loan_repaid</th>\n",
              "      <th>loan_status</th>\n",
              "    </tr>\n",
              "  </thead>\n",
              "  <tbody>\n",
              "    <tr>\n",
              "      <th>0</th>\n",
              "      <td>1</td>\n",
              "      <td>Fully Paid</td>\n",
              "    </tr>\n",
              "    <tr>\n",
              "      <th>1</th>\n",
              "      <td>1</td>\n",
              "      <td>Fully Paid</td>\n",
              "    </tr>\n",
              "    <tr>\n",
              "      <th>2</th>\n",
              "      <td>1</td>\n",
              "      <td>Fully Paid</td>\n",
              "    </tr>\n",
              "    <tr>\n",
              "      <th>3</th>\n",
              "      <td>1</td>\n",
              "      <td>Fully Paid</td>\n",
              "    </tr>\n",
              "    <tr>\n",
              "      <th>4</th>\n",
              "      <td>0</td>\n",
              "      <td>Charged Off</td>\n",
              "    </tr>\n",
              "    <tr>\n",
              "      <th>...</th>\n",
              "      <td>...</td>\n",
              "      <td>...</td>\n",
              "    </tr>\n",
              "    <tr>\n",
              "      <th>396025</th>\n",
              "      <td>1</td>\n",
              "      <td>Fully Paid</td>\n",
              "    </tr>\n",
              "    <tr>\n",
              "      <th>396026</th>\n",
              "      <td>1</td>\n",
              "      <td>Fully Paid</td>\n",
              "    </tr>\n",
              "    <tr>\n",
              "      <th>396027</th>\n",
              "      <td>1</td>\n",
              "      <td>Fully Paid</td>\n",
              "    </tr>\n",
              "    <tr>\n",
              "      <th>396028</th>\n",
              "      <td>1</td>\n",
              "      <td>Fully Paid</td>\n",
              "    </tr>\n",
              "    <tr>\n",
              "      <th>396029</th>\n",
              "      <td>1</td>\n",
              "      <td>Fully Paid</td>\n",
              "    </tr>\n",
              "  </tbody>\n",
              "</table>\n",
              "<p>396030 rows × 2 columns</p>\n",
              "</div>"
            ],
            "text/plain": [
              "        loan_repaid  loan_status\n",
              "0                 1   Fully Paid\n",
              "1                 1   Fully Paid\n",
              "2                 1   Fully Paid\n",
              "3                 1   Fully Paid\n",
              "4                 0  Charged Off\n",
              "...             ...          ...\n",
              "396025            1   Fully Paid\n",
              "396026            1   Fully Paid\n",
              "396027            1   Fully Paid\n",
              "396028            1   Fully Paid\n",
              "396029            1   Fully Paid\n",
              "\n",
              "[396030 rows x 2 columns]"
            ]
          },
          "metadata": {
            "tags": []
          },
          "execution_count": 223
        }
      ]
    },
    {
      "cell_type": "code",
      "metadata": {
        "id": "01sOuvVPCwc1",
        "colab_type": "code",
        "colab": {}
      },
      "source": [
        "df = df.drop('emp_title',axis=1)"
      ],
      "execution_count": 0,
      "outputs": []
    },
    {
      "cell_type": "code",
      "metadata": {
        "id": "Ado7ZBvFC6Xl",
        "colab_type": "code",
        "colab": {}
      },
      "source": [
        "df = df.drop('emp_length',axis=1)"
      ],
      "execution_count": 0,
      "outputs": []
    },
    {
      "cell_type": "code",
      "metadata": {
        "id": "w0S6f5AvC8NG",
        "colab_type": "code",
        "outputId": "726c0b62-137d-4f93-c750-2aab79c0b63f",
        "colab": {
          "base_uri": "https://localhost:8080/",
          "height": 519
        }
      },
      "source": [
        "df.isna().sum()"
      ],
      "execution_count": 0,
      "outputs": [
        {
          "output_type": "execute_result",
          "data": {
            "text/plain": [
              "loan_amnt                   0\n",
              "term                        0\n",
              "int_rate                    0\n",
              "installment                 0\n",
              "grade                       0\n",
              "sub_grade                   0\n",
              "home_ownership              0\n",
              "annual_inc                  0\n",
              "verification_status         0\n",
              "issue_d                     0\n",
              "loan_status                 0\n",
              "purpose                     0\n",
              "title                    1755\n",
              "dti                         0\n",
              "earliest_cr_line            0\n",
              "open_acc                    0\n",
              "pub_rec                     0\n",
              "revol_bal                   0\n",
              "revol_util                276\n",
              "total_acc                   0\n",
              "initial_list_status         0\n",
              "application_type            0\n",
              "mort_acc                37795\n",
              "pub_rec_bankruptcies      535\n",
              "address                     0\n",
              "loan_repaid                 0\n",
              "dtype: int64"
            ]
          },
          "metadata": {
            "tags": []
          },
          "execution_count": 226
        }
      ]
    },
    {
      "cell_type": "code",
      "metadata": {
        "id": "DdBR9GbQC-CV",
        "colab_type": "code",
        "colab": {}
      },
      "source": [
        "df = df.drop('title',axis=1)"
      ],
      "execution_count": 0,
      "outputs": []
    },
    {
      "cell_type": "code",
      "metadata": {
        "id": "6gBNQqQXDAin",
        "colab_type": "code",
        "outputId": "a1d5ef71-0e75-4c9c-8d1f-b3c86ad821d4",
        "colab": {
          "base_uri": "https://localhost:8080/",
          "height": 649
        }
      },
      "source": [
        "df['mort_acc'].value_counts()"
      ],
      "execution_count": 0,
      "outputs": [
        {
          "output_type": "execute_result",
          "data": {
            "text/plain": [
              "0.0     139777\n",
              "1.0      60416\n",
              "2.0      49948\n",
              "3.0      38049\n",
              "4.0      27887\n",
              "5.0      18194\n",
              "6.0      11069\n",
              "7.0       6052\n",
              "8.0       3121\n",
              "9.0       1656\n",
              "10.0       865\n",
              "11.0       479\n",
              "12.0       264\n",
              "13.0       146\n",
              "14.0       107\n",
              "15.0        61\n",
              "16.0        37\n",
              "17.0        22\n",
              "18.0        18\n",
              "19.0        15\n",
              "20.0        13\n",
              "24.0        10\n",
              "22.0         7\n",
              "21.0         4\n",
              "25.0         4\n",
              "27.0         3\n",
              "23.0         2\n",
              "32.0         2\n",
              "26.0         2\n",
              "31.0         2\n",
              "30.0         1\n",
              "28.0         1\n",
              "34.0         1\n",
              "Name: mort_acc, dtype: int64"
            ]
          },
          "metadata": {
            "tags": []
          },
          "execution_count": 228
        }
      ]
    },
    {
      "cell_type": "code",
      "metadata": {
        "id": "wAYJiFZzDDWV",
        "colab_type": "code",
        "outputId": "8650e7d3-40e1-47b6-87e6-fb22868b53bb",
        "colab": {
          "base_uri": "https://localhost:8080/",
          "height": 277
        }
      },
      "source": [
        "df.corr()['mort_acc']"
      ],
      "execution_count": 0,
      "outputs": [
        {
          "output_type": "execute_result",
          "data": {
            "text/plain": [
              "loan_amnt               0.222315\n",
              "int_rate               -0.082583\n",
              "installment             0.193694\n",
              "annual_inc              0.236320\n",
              "dti                    -0.025439\n",
              "open_acc                0.109205\n",
              "pub_rec                 0.011552\n",
              "revol_bal               0.194925\n",
              "revol_util              0.007514\n",
              "total_acc               0.381072\n",
              "mort_acc                1.000000\n",
              "pub_rec_bankruptcies    0.027239\n",
              "loan_repaid             0.073111\n",
              "Name: mort_acc, dtype: float64"
            ]
          },
          "metadata": {
            "tags": []
          },
          "execution_count": 229
        }
      ]
    },
    {
      "cell_type": "code",
      "metadata": {
        "id": "O7kHvFfFDFcG",
        "colab_type": "code",
        "colab": {}
      },
      "source": [
        "acc_avg=df.groupby('total_acc').mean()['mort_acc']"
      ],
      "execution_count": 0,
      "outputs": []
    },
    {
      "cell_type": "code",
      "metadata": {
        "id": "63OA2CXEDIxl",
        "colab_type": "code",
        "colab": {}
      },
      "source": [
        "def fill(total_acc,mort_acc):\n",
        "  if np.isnan(mort_acc):\n",
        "    return acc_avg[total_acc]\n",
        "  else:\n",
        "    return mort_acc"
      ],
      "execution_count": 0,
      "outputs": []
    },
    {
      "cell_type": "code",
      "metadata": {
        "id": "DrJi2894DJn2",
        "colab_type": "code",
        "colab": {}
      },
      "source": [
        "df['mort_acc']=df.apply(lambda x : fill(x['total_acc'],x['mort_acc']),axis=1)"
      ],
      "execution_count": 0,
      "outputs": []
    },
    {
      "cell_type": "code",
      "metadata": {
        "id": "_chHczkKDK1S",
        "colab_type": "code",
        "outputId": "ca25c09c-95ef-4622-d63c-65bd7ff670c8",
        "colab": {
          "base_uri": "https://localhost:8080/",
          "height": 501
        }
      },
      "source": [
        "df.isna().sum()"
      ],
      "execution_count": 0,
      "outputs": [
        {
          "output_type": "execute_result",
          "data": {
            "text/plain": [
              "loan_amnt                 0\n",
              "term                      0\n",
              "int_rate                  0\n",
              "installment               0\n",
              "grade                     0\n",
              "sub_grade                 0\n",
              "home_ownership            0\n",
              "annual_inc                0\n",
              "verification_status       0\n",
              "issue_d                   0\n",
              "loan_status               0\n",
              "purpose                   0\n",
              "dti                       0\n",
              "earliest_cr_line          0\n",
              "open_acc                  0\n",
              "pub_rec                   0\n",
              "revol_bal                 0\n",
              "revol_util              276\n",
              "total_acc                 0\n",
              "initial_list_status       0\n",
              "application_type          0\n",
              "mort_acc                  0\n",
              "pub_rec_bankruptcies    535\n",
              "address                   0\n",
              "loan_repaid               0\n",
              "dtype: int64"
            ]
          },
          "metadata": {
            "tags": []
          },
          "execution_count": 233
        }
      ]
    },
    {
      "cell_type": "code",
      "metadata": {
        "id": "n78N7gkDDNXF",
        "colab_type": "code",
        "colab": {}
      },
      "source": [
        "df = df.dropna()"
      ],
      "execution_count": 0,
      "outputs": []
    },
    {
      "cell_type": "code",
      "metadata": {
        "id": "bLsSRe4MDRWm",
        "colab_type": "code",
        "outputId": "92ab47ca-e836-4110-b05a-28298c716fef",
        "colab": {
          "base_uri": "https://localhost:8080/",
          "height": 501
        }
      },
      "source": [
        "df.isna().sum()"
      ],
      "execution_count": 0,
      "outputs": [
        {
          "output_type": "execute_result",
          "data": {
            "text/plain": [
              "loan_amnt               0\n",
              "term                    0\n",
              "int_rate                0\n",
              "installment             0\n",
              "grade                   0\n",
              "sub_grade               0\n",
              "home_ownership          0\n",
              "annual_inc              0\n",
              "verification_status     0\n",
              "issue_d                 0\n",
              "loan_status             0\n",
              "purpose                 0\n",
              "dti                     0\n",
              "earliest_cr_line        0\n",
              "open_acc                0\n",
              "pub_rec                 0\n",
              "revol_bal               0\n",
              "revol_util              0\n",
              "total_acc               0\n",
              "initial_list_status     0\n",
              "application_type        0\n",
              "mort_acc                0\n",
              "pub_rec_bankruptcies    0\n",
              "address                 0\n",
              "loan_repaid             0\n",
              "dtype: int64"
            ]
          },
          "metadata": {
            "tags": []
          },
          "execution_count": 235
        }
      ]
    },
    {
      "cell_type": "code",
      "metadata": {
        "id": "3NHeWe5BDSh1",
        "colab_type": "code",
        "outputId": "d636faac-febf-48fa-c562-9d966549a477",
        "colab": {
          "base_uri": "https://localhost:8080/",
          "height": 91
        }
      },
      "source": [
        "df.select_dtypes(include='object').columns"
      ],
      "execution_count": 0,
      "outputs": [
        {
          "output_type": "execute_result",
          "data": {
            "text/plain": [
              "Index(['term', 'grade', 'sub_grade', 'home_ownership', 'verification_status',\n",
              "       'issue_d', 'loan_status', 'purpose', 'earliest_cr_line',\n",
              "       'initial_list_status', 'application_type', 'address'],\n",
              "      dtype='object')"
            ]
          },
          "metadata": {
            "tags": []
          },
          "execution_count": 236
        }
      ]
    },
    {
      "cell_type": "code",
      "metadata": {
        "id": "d4XzWSKlDWmG",
        "colab_type": "code",
        "colab": {}
      },
      "source": [
        "from sklearn.preprocessing import LabelEncoder\n",
        "encoder = LabelEncoder()"
      ],
      "execution_count": 0,
      "outputs": []
    },
    {
      "cell_type": "code",
      "metadata": {
        "id": "Pd7IcmsnDqZT",
        "colab_type": "code",
        "colab": {}
      },
      "source": [
        "df['term']=df['term'].apply(lambda x : int(x[:3]))"
      ],
      "execution_count": 0,
      "outputs": []
    },
    {
      "cell_type": "code",
      "metadata": {
        "id": "58lzjabeEQY1",
        "colab_type": "code",
        "outputId": "75608512-cd12-421c-80b7-9f49cecbb862",
        "colab": {
          "base_uri": "https://localhost:8080/",
          "height": 129
        }
      },
      "source": [
        "df['term'].head()"
      ],
      "execution_count": 0,
      "outputs": [
        {
          "output_type": "execute_result",
          "data": {
            "text/plain": [
              "0    36\n",
              "1    36\n",
              "2    36\n",
              "3    36\n",
              "4    60\n",
              "Name: term, dtype: int64"
            ]
          },
          "metadata": {
            "tags": []
          },
          "execution_count": 239
        }
      ]
    },
    {
      "cell_type": "code",
      "metadata": {
        "id": "npxtP-l4FAiU",
        "colab_type": "code",
        "outputId": "7ec401d2-cfaf-4cc7-b85d-d0aaa83592e9",
        "colab": {
          "base_uri": "https://localhost:8080/",
          "height": 73
        }
      },
      "source": [
        "df['term'].value_counts()"
      ],
      "execution_count": 0,
      "outputs": [
        {
          "output_type": "execute_result",
          "data": {
            "text/plain": [
              "36    301247\n",
              "60     93972\n",
              "Name: term, dtype: int64"
            ]
          },
          "metadata": {
            "tags": []
          },
          "execution_count": 240
        }
      ]
    },
    {
      "cell_type": "code",
      "metadata": {
        "id": "5QpDYlj0FGAG",
        "colab_type": "code",
        "colab": {}
      },
      "source": [
        "df = df.drop('grade',axis=1)"
      ],
      "execution_count": 0,
      "outputs": []
    },
    {
      "cell_type": "code",
      "metadata": {
        "id": "qbS-4Od1GVcW",
        "colab_type": "code",
        "outputId": "cb80bde2-5bd0-4b9f-dd47-4d7fef1e8b71",
        "colab": {
          "base_uri": "https://localhost:8080/",
          "height": 91
        }
      },
      "source": [
        "df.select_dtypes(include='object').columns"
      ],
      "execution_count": 0,
      "outputs": [
        {
          "output_type": "execute_result",
          "data": {
            "text/plain": [
              "Index(['sub_grade', 'home_ownership', 'verification_status', 'issue_d',\n",
              "       'loan_status', 'purpose', 'earliest_cr_line', 'initial_list_status',\n",
              "       'application_type', 'address'],\n",
              "      dtype='object')"
            ]
          },
          "metadata": {
            "tags": []
          },
          "execution_count": 242
        }
      ]
    },
    {
      "cell_type": "code",
      "metadata": {
        "id": "LAeoyo6aGcYF",
        "colab_type": "code",
        "outputId": "de2895f8-194e-49a3-c1e9-8df54b979579",
        "colab": {
          "base_uri": "https://localhost:8080/",
          "height": 687
        }
      },
      "source": [
        "df['sub_grade'].value_counts()"
      ],
      "execution_count": 0,
      "outputs": [
        {
          "output_type": "execute_result",
          "data": {
            "text/plain": [
              "B3    26611\n",
              "B4    25558\n",
              "C1    23609\n",
              "C2    22541\n",
              "B2    22457\n",
              "B5    22046\n",
              "C3    21178\n",
              "C4    20232\n",
              "B1    19140\n",
              "A5    18500\n",
              "C5    18215\n",
              "D1    15947\n",
              "A4    15763\n",
              "D2    13916\n",
              "D3    12196\n",
              "D4    11625\n",
              "A3    10537\n",
              "A1     9717\n",
              "D5     9680\n",
              "A2     9539\n",
              "E1     7906\n",
              "E2     7410\n",
              "E3     6196\n",
              "E4     5354\n",
              "E5     4561\n",
              "F1     3530\n",
              "F2     2756\n",
              "F3     2277\n",
              "F4     1782\n",
              "F5     1395\n",
              "G1     1057\n",
              "G2      752\n",
              "G3      552\n",
              "G4      371\n",
              "G5      313\n",
              "Name: sub_grade, dtype: int64"
            ]
          },
          "metadata": {
            "tags": []
          },
          "execution_count": 243
        }
      ]
    },
    {
      "cell_type": "code",
      "metadata": {
        "id": "gWWz9fMpGfsG",
        "colab_type": "code",
        "outputId": "f21ad27d-5da1-4957-fdbb-f45246ef2354",
        "colab": {
          "base_uri": "https://localhost:8080/",
          "height": 129
        }
      },
      "source": [
        "df['term'].head()"
      ],
      "execution_count": 0,
      "outputs": [
        {
          "output_type": "execute_result",
          "data": {
            "text/plain": [
              "0    36\n",
              "1    36\n",
              "2    36\n",
              "3    36\n",
              "4    60\n",
              "Name: term, dtype: int64"
            ]
          },
          "metadata": {
            "tags": []
          },
          "execution_count": 244
        }
      ]
    },
    {
      "cell_type": "code",
      "metadata": {
        "id": "hOMHWIZwG8CU",
        "colab_type": "code",
        "colab": {}
      },
      "source": [
        "df['sub_grade']=encoder.fit_transform(df['sub_grade'])"
      ],
      "execution_count": 0,
      "outputs": []
    },
    {
      "cell_type": "code",
      "metadata": {
        "id": "7wQIv4oWHRNE",
        "colab_type": "code",
        "outputId": "ad57a55e-42c8-4fbc-b477-c4f5c09d290c",
        "colab": {
          "base_uri": "https://localhost:8080/",
          "height": 687
        }
      },
      "source": [
        "df['sub_grade'].value_counts()"
      ],
      "execution_count": 0,
      "outputs": [
        {
          "output_type": "execute_result",
          "data": {
            "text/plain": [
              "7     26611\n",
              "8     25558\n",
              "10    23609\n",
              "11    22541\n",
              "6     22457\n",
              "9     22046\n",
              "12    21178\n",
              "13    20232\n",
              "5     19140\n",
              "4     18500\n",
              "14    18215\n",
              "15    15947\n",
              "3     15763\n",
              "16    13916\n",
              "17    12196\n",
              "18    11625\n",
              "2     10537\n",
              "0      9717\n",
              "19     9680\n",
              "1      9539\n",
              "20     7906\n",
              "21     7410\n",
              "22     6196\n",
              "23     5354\n",
              "24     4561\n",
              "25     3530\n",
              "26     2756\n",
              "27     2277\n",
              "28     1782\n",
              "29     1395\n",
              "30     1057\n",
              "31      752\n",
              "32      552\n",
              "33      371\n",
              "34      313\n",
              "Name: sub_grade, dtype: int64"
            ]
          },
          "metadata": {
            "tags": []
          },
          "execution_count": 246
        }
      ]
    },
    {
      "cell_type": "code",
      "metadata": {
        "id": "MDB9N2UvIjZE",
        "colab_type": "code",
        "outputId": "69e9de38-75bf-4ece-dfbb-1c5018259397",
        "colab": {
          "base_uri": "https://localhost:8080/",
          "height": 91
        }
      },
      "source": [
        "df['verification_status'].value_counts()"
      ],
      "execution_count": 0,
      "outputs": [
        {
          "output_type": "execute_result",
          "data": {
            "text/plain": [
              "Verified           139451\n",
              "Source Verified    131301\n",
              "Not Verified       124467\n",
              "Name: verification_status, dtype: int64"
            ]
          },
          "metadata": {
            "tags": []
          },
          "execution_count": 247
        }
      ]
    },
    {
      "cell_type": "code",
      "metadata": {
        "id": "6GXBHz6mKhJ3",
        "colab_type": "code",
        "colab": {}
      },
      "source": [
        "df['verification_status'] = encoder.fit_transform(df['verification_status'])"
      ],
      "execution_count": 0,
      "outputs": []
    },
    {
      "cell_type": "code",
      "metadata": {
        "id": "Spym8fDdKmPk",
        "colab_type": "code",
        "outputId": "0c04e007-c2c9-4b79-9296-471d19241408",
        "colab": {
          "base_uri": "https://localhost:8080/",
          "height": 91
        }
      },
      "source": [
        "df['verification_status'].value_counts()"
      ],
      "execution_count": 0,
      "outputs": [
        {
          "output_type": "execute_result",
          "data": {
            "text/plain": [
              "2    139451\n",
              "1    131301\n",
              "0    124467\n",
              "Name: verification_status, dtype: int64"
            ]
          },
          "metadata": {
            "tags": []
          },
          "execution_count": 249
        }
      ]
    },
    {
      "cell_type": "code",
      "metadata": {
        "id": "5hKsmC_OKnVl",
        "colab_type": "code",
        "outputId": "fc394bfd-99d7-4767-8280-ee0e9d51b8c2",
        "colab": {
          "base_uri": "https://localhost:8080/",
          "height": 91
        }
      },
      "source": [
        "df['application_type'].value_counts()"
      ],
      "execution_count": 0,
      "outputs": [
        {
          "output_type": "execute_result",
          "data": {
            "text/plain": [
              "INDIVIDUAL    394508\n",
              "JOINT            425\n",
              "DIRECT_PAY       286\n",
              "Name: application_type, dtype: int64"
            ]
          },
          "metadata": {
            "tags": []
          },
          "execution_count": 250
        }
      ]
    },
    {
      "cell_type": "code",
      "metadata": {
        "id": "B3nkykJvKuuG",
        "colab_type": "code",
        "colab": {}
      },
      "source": [
        "df['application_type'] = encoder.fit_transform(df['application_type'])"
      ],
      "execution_count": 0,
      "outputs": []
    },
    {
      "cell_type": "code",
      "metadata": {
        "id": "WBJig_r8KzPE",
        "colab_type": "code",
        "outputId": "4c156b14-0c8a-4ee9-af18-70a04ebde0fb",
        "colab": {
          "base_uri": "https://localhost:8080/",
          "height": 91
        }
      },
      "source": [
        "df['application_type'].value_counts()"
      ],
      "execution_count": 0,
      "outputs": [
        {
          "output_type": "execute_result",
          "data": {
            "text/plain": [
              "1    394508\n",
              "2       425\n",
              "0       286\n",
              "Name: application_type, dtype: int64"
            ]
          },
          "metadata": {
            "tags": []
          },
          "execution_count": 252
        }
      ]
    },
    {
      "cell_type": "code",
      "metadata": {
        "id": "7nLoJYteK0h0",
        "colab_type": "code",
        "outputId": "29c2d5c3-17e4-42b5-a2e2-68e3e442ecc7",
        "colab": {
          "base_uri": "https://localhost:8080/",
          "height": 73
        }
      },
      "source": [
        "df['initial_list_status'].value_counts()"
      ],
      "execution_count": 0,
      "outputs": [
        {
          "output_type": "execute_result",
          "data": {
            "text/plain": [
              "f    237346\n",
              "w    157873\n",
              "Name: initial_list_status, dtype: int64"
            ]
          },
          "metadata": {
            "tags": []
          },
          "execution_count": 253
        }
      ]
    },
    {
      "cell_type": "code",
      "metadata": {
        "id": "4ohbWUHbK9PW",
        "colab_type": "code",
        "colab": {}
      },
      "source": [
        "df['initial_list_status'] = encoder.fit_transform(df['initial_list_status'])"
      ],
      "execution_count": 0,
      "outputs": []
    },
    {
      "cell_type": "code",
      "metadata": {
        "id": "Woxn5OhLLBNF",
        "colab_type": "code",
        "outputId": "b5537ac2-297e-45b7-f66c-b4a162b5e8b3",
        "colab": {
          "base_uri": "https://localhost:8080/",
          "height": 73
        }
      },
      "source": [
        "df['initial_list_status'].value_counts()"
      ],
      "execution_count": 0,
      "outputs": [
        {
          "output_type": "execute_result",
          "data": {
            "text/plain": [
              "0    237346\n",
              "1    157873\n",
              "Name: initial_list_status, dtype: int64"
            ]
          },
          "metadata": {
            "tags": []
          },
          "execution_count": 255
        }
      ]
    },
    {
      "cell_type": "code",
      "metadata": {
        "id": "CHTcJj2KLC5W",
        "colab_type": "code",
        "outputId": "4ff59f47-93b6-4949-8ac8-9464add9c47c",
        "colab": {
          "base_uri": "https://localhost:8080/",
          "height": 296
        }
      },
      "source": [
        "df['purpose'].value_counts()"
      ],
      "execution_count": 0,
      "outputs": [
        {
          "output_type": "execute_result",
          "data": {
            "text/plain": [
              "debt_consolidation    234169\n",
              "credit_card            82923\n",
              "home_improvement       23961\n",
              "other                  21059\n",
              "major_purchase          8756\n",
              "small_business          5656\n",
              "car                     4670\n",
              "medical                 4175\n",
              "moving                  2842\n",
              "vacation                2442\n",
              "house                   2197\n",
              "wedding                 1794\n",
              "renewable_energy         329\n",
              "educational              246\n",
              "Name: purpose, dtype: int64"
            ]
          },
          "metadata": {
            "tags": []
          },
          "execution_count": 256
        }
      ]
    },
    {
      "cell_type": "code",
      "metadata": {
        "id": "GyYGbhZiLGPl",
        "colab_type": "code",
        "colab": {}
      },
      "source": [
        "df['purpose'] = encoder.fit_transform(df['purpose'])"
      ],
      "execution_count": 0,
      "outputs": []
    },
    {
      "cell_type": "code",
      "metadata": {
        "id": "DCj5FKI2LKS2",
        "colab_type": "code",
        "outputId": "17fbeb0d-770d-47f9-fa67-65168051688b",
        "colab": {
          "base_uri": "https://localhost:8080/",
          "height": 296
        }
      },
      "source": [
        "df['purpose'].value_counts()"
      ],
      "execution_count": 0,
      "outputs": [
        {
          "output_type": "execute_result",
          "data": {
            "text/plain": [
              "2     234169\n",
              "1      82923\n",
              "4      23961\n",
              "9      21059\n",
              "6       8756\n",
              "11      5656\n",
              "0       4670\n",
              "7       4175\n",
              "8       2842\n",
              "12      2442\n",
              "5       2197\n",
              "13      1794\n",
              "10       329\n",
              "3        246\n",
              "Name: purpose, dtype: int64"
            ]
          },
          "metadata": {
            "tags": []
          },
          "execution_count": 258
        }
      ]
    },
    {
      "cell_type": "code",
      "metadata": {
        "id": "-yLksYQRLL-l",
        "colab_type": "code",
        "outputId": "e93e3e0d-ae2f-4ea6-bb33-76c27d98f105",
        "colab": {
          "base_uri": "https://localhost:8080/",
          "height": 147
        }
      },
      "source": [
        "df.columns"
      ],
      "execution_count": 0,
      "outputs": [
        {
          "output_type": "execute_result",
          "data": {
            "text/plain": [
              "Index(['loan_amnt', 'term', 'int_rate', 'installment', 'sub_grade',\n",
              "       'home_ownership', 'annual_inc', 'verification_status', 'issue_d',\n",
              "       'loan_status', 'purpose', 'dti', 'earliest_cr_line', 'open_acc',\n",
              "       'pub_rec', 'revol_bal', 'revol_util', 'total_acc',\n",
              "       'initial_list_status', 'application_type', 'mort_acc',\n",
              "       'pub_rec_bankruptcies', 'address', 'loan_repaid'],\n",
              "      dtype='object')"
            ]
          },
          "metadata": {
            "tags": []
          },
          "execution_count": 259
        }
      ]
    },
    {
      "cell_type": "code",
      "metadata": {
        "id": "wLi9xuMdLsvn",
        "colab_type": "code",
        "outputId": "f91b519b-42cd-413a-e0a4-b090c466f5f4",
        "colab": {
          "base_uri": "https://localhost:8080/",
          "height": 147
        }
      },
      "source": [
        "df['home_ownership'].value_counts()"
      ],
      "execution_count": 0,
      "outputs": [
        {
          "output_type": "execute_result",
          "data": {
            "text/plain": [
              "MORTGAGE    198022\n",
              "RENT        159395\n",
              "OWN          37660\n",
              "OTHER          110\n",
              "NONE            29\n",
              "ANY              3\n",
              "Name: home_ownership, dtype: int64"
            ]
          },
          "metadata": {
            "tags": []
          },
          "execution_count": 260
        }
      ]
    },
    {
      "cell_type": "code",
      "metadata": {
        "id": "YSDMhpEhLwpX",
        "colab_type": "code",
        "colab": {}
      },
      "source": [
        "df['home_ownership']=df['home_ownership'].replace(['NONE','ANY'],'OTHER')"
      ],
      "execution_count": 0,
      "outputs": []
    },
    {
      "cell_type": "code",
      "metadata": {
        "id": "6Pdz--L6L0sZ",
        "colab_type": "code",
        "outputId": "05e06ebb-9aac-471a-80dc-f11bddd41c36",
        "colab": {
          "base_uri": "https://localhost:8080/",
          "height": 110
        }
      },
      "source": [
        "df['home_ownership'].value_counts()"
      ],
      "execution_count": 0,
      "outputs": [
        {
          "output_type": "execute_result",
          "data": {
            "text/plain": [
              "MORTGAGE    198022\n",
              "RENT        159395\n",
              "OWN          37660\n",
              "OTHER          142\n",
              "Name: home_ownership, dtype: int64"
            ]
          },
          "metadata": {
            "tags": []
          },
          "execution_count": 262
        }
      ]
    },
    {
      "cell_type": "code",
      "metadata": {
        "id": "4zjHPOzSL2EW",
        "colab_type": "code",
        "colab": {}
      },
      "source": [
        "df['loan_status'] = encoder.fit_transform(df['loan_status'] )"
      ],
      "execution_count": 0,
      "outputs": []
    },
    {
      "cell_type": "code",
      "metadata": {
        "id": "E6pek2aeMF1n",
        "colab_type": "code",
        "outputId": "41681dc6-3e9a-4121-a980-c315510b5fe2",
        "colab": {
          "base_uri": "https://localhost:8080/",
          "height": 73
        }
      },
      "source": [
        "df['loan_repaid'].value_counts()"
      ],
      "execution_count": 0,
      "outputs": [
        {
          "output_type": "execute_result",
          "data": {
            "text/plain": [
              "1    317696\n",
              "0     77523\n",
              "Name: loan_repaid, dtype: int64"
            ]
          },
          "metadata": {
            "tags": []
          },
          "execution_count": 264
        }
      ]
    },
    {
      "cell_type": "code",
      "metadata": {
        "id": "AyGedA6jMJpE",
        "colab_type": "code",
        "outputId": "0a4a51eb-7141-4492-d294-106860d6c683",
        "colab": {
          "base_uri": "https://localhost:8080/",
          "height": 73
        }
      },
      "source": [
        "df['loan_status'].value_counts()"
      ],
      "execution_count": 0,
      "outputs": [
        {
          "output_type": "execute_result",
          "data": {
            "text/plain": [
              "1    317696\n",
              "0     77523\n",
              "Name: loan_status, dtype: int64"
            ]
          },
          "metadata": {
            "tags": []
          },
          "execution_count": 265
        }
      ]
    },
    {
      "cell_type": "code",
      "metadata": {
        "id": "pxCavJk8MWBl",
        "colab_type": "code",
        "outputId": "4de930e4-09f0-4b4d-e4bc-0370f6d4cbfd",
        "colab": {
          "base_uri": "https://localhost:8080/",
          "height": 434
        }
      },
      "source": [
        "df.head()"
      ],
      "execution_count": 0,
      "outputs": [
        {
          "output_type": "execute_result",
          "data": {
            "text/html": [
              "<div>\n",
              "<style scoped>\n",
              "    .dataframe tbody tr th:only-of-type {\n",
              "        vertical-align: middle;\n",
              "    }\n",
              "\n",
              "    .dataframe tbody tr th {\n",
              "        vertical-align: top;\n",
              "    }\n",
              "\n",
              "    .dataframe thead th {\n",
              "        text-align: right;\n",
              "    }\n",
              "</style>\n",
              "<table border=\"1\" class=\"dataframe\">\n",
              "  <thead>\n",
              "    <tr style=\"text-align: right;\">\n",
              "      <th></th>\n",
              "      <th>loan_amnt</th>\n",
              "      <th>term</th>\n",
              "      <th>int_rate</th>\n",
              "      <th>installment</th>\n",
              "      <th>sub_grade</th>\n",
              "      <th>home_ownership</th>\n",
              "      <th>annual_inc</th>\n",
              "      <th>verification_status</th>\n",
              "      <th>issue_d</th>\n",
              "      <th>loan_status</th>\n",
              "      <th>purpose</th>\n",
              "      <th>dti</th>\n",
              "      <th>earliest_cr_line</th>\n",
              "      <th>open_acc</th>\n",
              "      <th>pub_rec</th>\n",
              "      <th>revol_bal</th>\n",
              "      <th>revol_util</th>\n",
              "      <th>total_acc</th>\n",
              "      <th>initial_list_status</th>\n",
              "      <th>application_type</th>\n",
              "      <th>mort_acc</th>\n",
              "      <th>pub_rec_bankruptcies</th>\n",
              "      <th>address</th>\n",
              "      <th>loan_repaid</th>\n",
              "    </tr>\n",
              "  </thead>\n",
              "  <tbody>\n",
              "    <tr>\n",
              "      <th>0</th>\n",
              "      <td>10000.0</td>\n",
              "      <td>36</td>\n",
              "      <td>11.44</td>\n",
              "      <td>329.48</td>\n",
              "      <td>8</td>\n",
              "      <td>RENT</td>\n",
              "      <td>117000.0</td>\n",
              "      <td>0</td>\n",
              "      <td>Jan-2015</td>\n",
              "      <td>1</td>\n",
              "      <td>12</td>\n",
              "      <td>26.24</td>\n",
              "      <td>Jun-1990</td>\n",
              "      <td>16.0</td>\n",
              "      <td>0.0</td>\n",
              "      <td>36369.0</td>\n",
              "      <td>41.8</td>\n",
              "      <td>25.0</td>\n",
              "      <td>1</td>\n",
              "      <td>1</td>\n",
              "      <td>0.0</td>\n",
              "      <td>0.0</td>\n",
              "      <td>0174 Michelle Gateway\\r\\nMendozaberg, OK 22690</td>\n",
              "      <td>1</td>\n",
              "    </tr>\n",
              "    <tr>\n",
              "      <th>1</th>\n",
              "      <td>8000.0</td>\n",
              "      <td>36</td>\n",
              "      <td>11.99</td>\n",
              "      <td>265.68</td>\n",
              "      <td>9</td>\n",
              "      <td>MORTGAGE</td>\n",
              "      <td>65000.0</td>\n",
              "      <td>0</td>\n",
              "      <td>Jan-2015</td>\n",
              "      <td>1</td>\n",
              "      <td>2</td>\n",
              "      <td>22.05</td>\n",
              "      <td>Jul-2004</td>\n",
              "      <td>17.0</td>\n",
              "      <td>0.0</td>\n",
              "      <td>20131.0</td>\n",
              "      <td>53.3</td>\n",
              "      <td>27.0</td>\n",
              "      <td>0</td>\n",
              "      <td>1</td>\n",
              "      <td>3.0</td>\n",
              "      <td>0.0</td>\n",
              "      <td>1076 Carney Fort Apt. 347\\r\\nLoganmouth, SD 05113</td>\n",
              "      <td>1</td>\n",
              "    </tr>\n",
              "    <tr>\n",
              "      <th>2</th>\n",
              "      <td>15600.0</td>\n",
              "      <td>36</td>\n",
              "      <td>10.49</td>\n",
              "      <td>506.97</td>\n",
              "      <td>7</td>\n",
              "      <td>RENT</td>\n",
              "      <td>43057.0</td>\n",
              "      <td>1</td>\n",
              "      <td>Jan-2015</td>\n",
              "      <td>1</td>\n",
              "      <td>1</td>\n",
              "      <td>12.79</td>\n",
              "      <td>Aug-2007</td>\n",
              "      <td>13.0</td>\n",
              "      <td>0.0</td>\n",
              "      <td>11987.0</td>\n",
              "      <td>92.2</td>\n",
              "      <td>26.0</td>\n",
              "      <td>0</td>\n",
              "      <td>1</td>\n",
              "      <td>0.0</td>\n",
              "      <td>0.0</td>\n",
              "      <td>87025 Mark Dale Apt. 269\\r\\nNew Sabrina, WV 05113</td>\n",
              "      <td>1</td>\n",
              "    </tr>\n",
              "    <tr>\n",
              "      <th>3</th>\n",
              "      <td>7200.0</td>\n",
              "      <td>36</td>\n",
              "      <td>6.49</td>\n",
              "      <td>220.65</td>\n",
              "      <td>1</td>\n",
              "      <td>RENT</td>\n",
              "      <td>54000.0</td>\n",
              "      <td>0</td>\n",
              "      <td>Nov-2014</td>\n",
              "      <td>1</td>\n",
              "      <td>1</td>\n",
              "      <td>2.60</td>\n",
              "      <td>Sep-2006</td>\n",
              "      <td>6.0</td>\n",
              "      <td>0.0</td>\n",
              "      <td>5472.0</td>\n",
              "      <td>21.5</td>\n",
              "      <td>13.0</td>\n",
              "      <td>0</td>\n",
              "      <td>1</td>\n",
              "      <td>0.0</td>\n",
              "      <td>0.0</td>\n",
              "      <td>823 Reid Ford\\r\\nDelacruzside, MA 00813</td>\n",
              "      <td>1</td>\n",
              "    </tr>\n",
              "    <tr>\n",
              "      <th>4</th>\n",
              "      <td>24375.0</td>\n",
              "      <td>60</td>\n",
              "      <td>17.27</td>\n",
              "      <td>609.33</td>\n",
              "      <td>14</td>\n",
              "      <td>MORTGAGE</td>\n",
              "      <td>55000.0</td>\n",
              "      <td>2</td>\n",
              "      <td>Apr-2013</td>\n",
              "      <td>0</td>\n",
              "      <td>1</td>\n",
              "      <td>33.95</td>\n",
              "      <td>Mar-1999</td>\n",
              "      <td>13.0</td>\n",
              "      <td>0.0</td>\n",
              "      <td>24584.0</td>\n",
              "      <td>69.8</td>\n",
              "      <td>43.0</td>\n",
              "      <td>0</td>\n",
              "      <td>1</td>\n",
              "      <td>1.0</td>\n",
              "      <td>0.0</td>\n",
              "      <td>679 Luna Roads\\r\\nGreggshire, VA 11650</td>\n",
              "      <td>0</td>\n",
              "    </tr>\n",
              "  </tbody>\n",
              "</table>\n",
              "</div>"
            ],
            "text/plain": [
              "   loan_amnt  ...  loan_repaid\n",
              "0    10000.0  ...            1\n",
              "1     8000.0  ...            1\n",
              "2    15600.0  ...            1\n",
              "3     7200.0  ...            1\n",
              "4    24375.0  ...            0\n",
              "\n",
              "[5 rows x 24 columns]"
            ]
          },
          "metadata": {
            "tags": []
          },
          "execution_count": 266
        }
      ]
    },
    {
      "cell_type": "code",
      "metadata": {
        "id": "_iVBHcvwMgOE",
        "colab_type": "code",
        "outputId": "79c9292f-1cec-46a6-b212-2aafb1522c78",
        "colab": {
          "base_uri": "https://localhost:8080/",
          "height": 110
        }
      },
      "source": [
        "df['home_ownership'].value_counts()"
      ],
      "execution_count": 0,
      "outputs": [
        {
          "output_type": "execute_result",
          "data": {
            "text/plain": [
              "MORTGAGE    198022\n",
              "RENT        159395\n",
              "OWN          37660\n",
              "OTHER          142\n",
              "Name: home_ownership, dtype: int64"
            ]
          },
          "metadata": {
            "tags": []
          },
          "execution_count": 267
        }
      ]
    },
    {
      "cell_type": "code",
      "metadata": {
        "id": "nYfZuHM5MqKW",
        "colab_type": "code",
        "colab": {}
      },
      "source": [
        "df['home_ownership'] = encoder.fit_transform(df['home_ownership'])"
      ],
      "execution_count": 0,
      "outputs": []
    },
    {
      "cell_type": "code",
      "metadata": {
        "id": "zqmwfWrZMv5W",
        "colab_type": "code",
        "outputId": "05ac8a80-5c4b-45f5-dbe2-e045539e1ba7",
        "colab": {
          "base_uri": "https://localhost:8080/",
          "height": 110
        }
      },
      "source": [
        "df['home_ownership'].value_counts()"
      ],
      "execution_count": 0,
      "outputs": [
        {
          "output_type": "execute_result",
          "data": {
            "text/plain": [
              "0    198022\n",
              "3    159395\n",
              "2     37660\n",
              "1       142\n",
              "Name: home_ownership, dtype: int64"
            ]
          },
          "metadata": {
            "tags": []
          },
          "execution_count": 269
        }
      ]
    },
    {
      "cell_type": "code",
      "metadata": {
        "id": "kOG43bwjMxMk",
        "colab_type": "code",
        "colab": {}
      },
      "source": [
        "df['zip'] = df['address'].apply(lambda x: x[-5:])"
      ],
      "execution_count": 0,
      "outputs": []
    },
    {
      "cell_type": "code",
      "metadata": {
        "id": "f57N80p6NJLl",
        "colab_type": "code",
        "outputId": "08e1acc6-4403-48a2-d3d4-a2e52115a174",
        "colab": {
          "base_uri": "https://localhost:8080/",
          "height": 222
        }
      },
      "source": [
        "df['zip'].value_counts()"
      ],
      "execution_count": 0,
      "outputs": [
        {
          "output_type": "execute_result",
          "data": {
            "text/plain": [
              "70466    56880\n",
              "22690    56413\n",
              "30723    56402\n",
              "48052    55811\n",
              "00813    45725\n",
              "29597    45393\n",
              "05113    45300\n",
              "11650    11210\n",
              "93700    11126\n",
              "86630    10959\n",
              "Name: zip, dtype: int64"
            ]
          },
          "metadata": {
            "tags": []
          },
          "execution_count": 271
        }
      ]
    },
    {
      "cell_type": "code",
      "metadata": {
        "id": "N2rejuGkNLQV",
        "colab_type": "code",
        "colab": {}
      },
      "source": [
        "df = df.drop('address',axis=1)"
      ],
      "execution_count": 0,
      "outputs": []
    },
    {
      "cell_type": "code",
      "metadata": {
        "id": "LNc09PvuNOA4",
        "colab_type": "code",
        "colab": {}
      },
      "source": [
        "df['zip'] = encoder.fit_transform(df['zip'])"
      ],
      "execution_count": 0,
      "outputs": []
    },
    {
      "cell_type": "code",
      "metadata": {
        "id": "zM9TagrONQ93",
        "colab_type": "code",
        "outputId": "7710e9cd-0cf4-41e8-9d16-c44026c408c7",
        "colab": {
          "base_uri": "https://localhost:8080/",
          "height": 222
        }
      },
      "source": [
        "df['zip'].value_counts()"
      ],
      "execution_count": 0,
      "outputs": [
        {
          "output_type": "execute_result",
          "data": {
            "text/plain": [
              "7    56880\n",
              "3    56413\n",
              "5    56402\n",
              "6    55811\n",
              "0    45725\n",
              "4    45393\n",
              "1    45300\n",
              "2    11210\n",
              "9    11126\n",
              "8    10959\n",
              "Name: zip, dtype: int64"
            ]
          },
          "metadata": {
            "tags": []
          },
          "execution_count": 274
        }
      ]
    },
    {
      "cell_type": "code",
      "metadata": {
        "id": "xqXWpNm7NSLV",
        "colab_type": "code",
        "colab": {}
      },
      "source": [
        "df = df.drop('issue_d',axis=1)"
      ],
      "execution_count": 0,
      "outputs": []
    },
    {
      "cell_type": "code",
      "metadata": {
        "id": "2VT-DWw_NvCH",
        "colab_type": "code",
        "outputId": "cab0071c-1c5d-4c78-a884-21845a340820",
        "colab": {
          "base_uri": "https://localhost:8080/",
          "height": 240
        }
      },
      "source": [
        "df['earliest_cr_line'].value_counts()"
      ],
      "execution_count": 0,
      "outputs": [
        {
          "output_type": "execute_result",
          "data": {
            "text/plain": [
              "Oct-2000    3013\n",
              "Aug-2000    2930\n",
              "Oct-2001    2890\n",
              "Aug-2001    2879\n",
              "Nov-2000    2729\n",
              "            ... \n",
              "Aug-1960       1\n",
              "Feb-1957       1\n",
              "Sep-1957       1\n",
              "Feb-1961       1\n",
              "Jul-1960       1\n",
              "Name: earliest_cr_line, Length: 684, dtype: int64"
            ]
          },
          "metadata": {
            "tags": []
          },
          "execution_count": 276
        }
      ]
    },
    {
      "cell_type": "code",
      "metadata": {
        "id": "FspzFGVZN5Bl",
        "colab_type": "code",
        "colab": {}
      },
      "source": [
        "df['earliest_cr_line'] = df['earliest_cr_line'].apply(lambda x : int(x[-4:]))"
      ],
      "execution_count": 0,
      "outputs": []
    },
    {
      "cell_type": "code",
      "metadata": {
        "id": "mHBPI42ROGxW",
        "colab_type": "code",
        "outputId": "f31eb1eb-55ee-4038-ae17-23778f41adcd",
        "colab": {
          "base_uri": "https://localhost:8080/",
          "height": 240
        }
      },
      "source": [
        "df['earliest_cr_line'].value_counts()"
      ],
      "execution_count": 0,
      "outputs": [
        {
          "output_type": "execute_result",
          "data": {
            "text/plain": [
              "2000    29302\n",
              "2001    29031\n",
              "1999    26444\n",
              "2002    25849\n",
              "2003    23623\n",
              "        ...  \n",
              "1951        3\n",
              "1950        3\n",
              "1953        2\n",
              "1948        1\n",
              "1944        1\n",
              "Name: earliest_cr_line, Length: 65, dtype: int64"
            ]
          },
          "metadata": {
            "tags": []
          },
          "execution_count": 278
        }
      ]
    },
    {
      "cell_type": "code",
      "metadata": {
        "id": "F4L8dFu-OJg1",
        "colab_type": "code",
        "outputId": "bc3329c1-575d-4f49-d008-6e5b405346f8",
        "colab": {
          "base_uri": "https://localhost:8080/",
          "height": 36
        }
      },
      "source": [
        "df['earliest_cr_line'].nunique()"
      ],
      "execution_count": 0,
      "outputs": [
        {
          "output_type": "execute_result",
          "data": {
            "text/plain": [
              "65"
            ]
          },
          "metadata": {
            "tags": []
          },
          "execution_count": 279
        }
      ]
    },
    {
      "cell_type": "code",
      "metadata": {
        "id": "3ohKVmg8OMyG",
        "colab_type": "code",
        "outputId": "907613fe-bba7-4603-daaa-b002cf73ab43",
        "colab": {
          "base_uri": "https://localhost:8080/",
          "height": 240
        }
      },
      "source": [
        "df['earliest_cr_line'].value_counts()"
      ],
      "execution_count": 0,
      "outputs": [
        {
          "output_type": "execute_result",
          "data": {
            "text/plain": [
              "2000    29302\n",
              "2001    29031\n",
              "1999    26444\n",
              "2002    25849\n",
              "2003    23623\n",
              "        ...  \n",
              "1951        3\n",
              "1950        3\n",
              "1953        2\n",
              "1948        1\n",
              "1944        1\n",
              "Name: earliest_cr_line, Length: 65, dtype: int64"
            ]
          },
          "metadata": {
            "tags": []
          },
          "execution_count": 280
        }
      ]
    },
    {
      "cell_type": "code",
      "metadata": {
        "id": "patxwdGMOZSn",
        "colab_type": "code",
        "outputId": "2f75d25a-36ab-46ed-b6a0-099e5541539a",
        "colab": {
          "base_uri": "https://localhost:8080/",
          "height": 147
        }
      },
      "source": [
        "df.columns"
      ],
      "execution_count": 0,
      "outputs": [
        {
          "output_type": "execute_result",
          "data": {
            "text/plain": [
              "Index(['loan_amnt', 'term', 'int_rate', 'installment', 'sub_grade',\n",
              "       'home_ownership', 'annual_inc', 'verification_status', 'loan_status',\n",
              "       'purpose', 'dti', 'earliest_cr_line', 'open_acc', 'pub_rec',\n",
              "       'revol_bal', 'revol_util', 'total_acc', 'initial_list_status',\n",
              "       'application_type', 'mort_acc', 'pub_rec_bankruptcies', 'loan_repaid',\n",
              "       'zip'],\n",
              "      dtype='object')"
            ]
          },
          "metadata": {
            "tags": []
          },
          "execution_count": 281
        }
      ]
    },
    {
      "cell_type": "code",
      "metadata": {
        "id": "3CONUubsOc8X",
        "colab_type": "code",
        "colab": {}
      },
      "source": [
        "df = df.drop('loan_status',axis=1)"
      ],
      "execution_count": 0,
      "outputs": []
    },
    {
      "cell_type": "code",
      "metadata": {
        "id": "ejc8ouTROj53",
        "colab_type": "code",
        "outputId": "f881cc26-0dbd-4029-e6e1-3e95e4739a3f",
        "colab": {
          "base_uri": "https://localhost:8080/",
          "height": 129
        }
      },
      "source": [
        "df.columns"
      ],
      "execution_count": 0,
      "outputs": [
        {
          "output_type": "execute_result",
          "data": {
            "text/plain": [
              "Index(['loan_amnt', 'term', 'int_rate', 'installment', 'sub_grade',\n",
              "       'home_ownership', 'annual_inc', 'verification_status', 'purpose', 'dti',\n",
              "       'earliest_cr_line', 'open_acc', 'pub_rec', 'revol_bal', 'revol_util',\n",
              "       'total_acc', 'initial_list_status', 'application_type', 'mort_acc',\n",
              "       'pub_rec_bankruptcies', 'loan_repaid', 'zip'],\n",
              "      dtype='object')"
            ]
          },
          "metadata": {
            "tags": []
          },
          "execution_count": 283
        }
      ]
    },
    {
      "cell_type": "code",
      "metadata": {
        "id": "8Jzh8qveO-LD",
        "colab_type": "code",
        "outputId": "0666cdf9-3a6f-4065-c66c-5b4e4fee36b3",
        "colab": {
          "base_uri": "https://localhost:8080/",
          "height": 203
        }
      },
      "source": [
        "df['pub_rec_bankruptcies'].value_counts()"
      ],
      "execution_count": 0,
      "outputs": [
        {
          "output_type": "execute_result",
          "data": {
            "text/plain": [
              "0.0    350108\n",
              "1.0     42786\n",
              "2.0      1847\n",
              "3.0       351\n",
              "4.0        82\n",
              "5.0        32\n",
              "6.0         7\n",
              "7.0         4\n",
              "8.0         2\n",
              "Name: pub_rec_bankruptcies, dtype: int64"
            ]
          },
          "metadata": {
            "tags": []
          },
          "execution_count": 284
        }
      ]
    },
    {
      "cell_type": "code",
      "metadata": {
        "id": "XdYvdQ9DPAvF",
        "colab_type": "code",
        "outputId": "44d4c7d2-dd62-4eb4-daf8-1beb720cc7a0",
        "colab": {
          "base_uri": "https://localhost:8080/",
          "height": 240
        }
      },
      "source": [
        "df['loan_amnt']"
      ],
      "execution_count": 0,
      "outputs": [
        {
          "output_type": "execute_result",
          "data": {
            "text/plain": [
              "0         10000.0\n",
              "1          8000.0\n",
              "2         15600.0\n",
              "3          7200.0\n",
              "4         24375.0\n",
              "           ...   \n",
              "396025    10000.0\n",
              "396026    21000.0\n",
              "396027     5000.0\n",
              "396028    21000.0\n",
              "396029     2000.0\n",
              "Name: loan_amnt, Length: 395219, dtype: float64"
            ]
          },
          "metadata": {
            "tags": []
          },
          "execution_count": 285
        }
      ]
    },
    {
      "cell_type": "code",
      "metadata": {
        "id": "NAKJzKaUPd2V",
        "colab_type": "code",
        "outputId": "c465209a-afcb-4c22-ba0b-764f269f4edb",
        "colab": {
          "base_uri": "https://localhost:8080/",
          "height": 240
        }
      },
      "source": [
        "df['term']"
      ],
      "execution_count": 0,
      "outputs": [
        {
          "output_type": "execute_result",
          "data": {
            "text/plain": [
              "0         36\n",
              "1         36\n",
              "2         36\n",
              "3         36\n",
              "4         60\n",
              "          ..\n",
              "396025    60\n",
              "396026    36\n",
              "396027    36\n",
              "396028    60\n",
              "396029    36\n",
              "Name: term, Length: 395219, dtype: int64"
            ]
          },
          "metadata": {
            "tags": []
          },
          "execution_count": 286
        }
      ]
    },
    {
      "cell_type": "code",
      "metadata": {
        "id": "VngfcAhmPgho",
        "colab_type": "code",
        "outputId": "23e8b843-3dab-4e98-cfb4-091da550283e",
        "colab": {
          "base_uri": "https://localhost:8080/",
          "height": 240
        }
      },
      "source": [
        "df['int_rate']"
      ],
      "execution_count": 0,
      "outputs": [
        {
          "output_type": "execute_result",
          "data": {
            "text/plain": [
              "0         11.44\n",
              "1         11.99\n",
              "2         10.49\n",
              "3          6.49\n",
              "4         17.27\n",
              "          ...  \n",
              "396025    10.99\n",
              "396026    12.29\n",
              "396027     9.99\n",
              "396028    15.31\n",
              "396029    13.61\n",
              "Name: int_rate, Length: 395219, dtype: float64"
            ]
          },
          "metadata": {
            "tags": []
          },
          "execution_count": 287
        }
      ]
    },
    {
      "cell_type": "code",
      "metadata": {
        "id": "CNIR5eDRPkUW",
        "colab_type": "code",
        "outputId": "1129964a-6e44-40a9-f79a-e11540b4ac93",
        "colab": {
          "base_uri": "https://localhost:8080/",
          "height": 129
        }
      },
      "source": [
        "df.columns"
      ],
      "execution_count": 0,
      "outputs": [
        {
          "output_type": "execute_result",
          "data": {
            "text/plain": [
              "Index(['loan_amnt', 'term', 'int_rate', 'installment', 'sub_grade',\n",
              "       'home_ownership', 'annual_inc', 'verification_status', 'purpose', 'dti',\n",
              "       'earliest_cr_line', 'open_acc', 'pub_rec', 'revol_bal', 'revol_util',\n",
              "       'total_acc', 'initial_list_status', 'application_type', 'mort_acc',\n",
              "       'pub_rec_bankruptcies', 'loan_repaid', 'zip'],\n",
              "      dtype='object')"
            ]
          },
          "metadata": {
            "tags": []
          },
          "execution_count": 288
        }
      ]
    },
    {
      "cell_type": "code",
      "metadata": {
        "id": "mwqzhyr4PrNW",
        "colab_type": "code",
        "outputId": "7a8cf607-a82d-4b71-8954-7d78a9aa94a4",
        "colab": {
          "base_uri": "https://localhost:8080/",
          "height": 73
        }
      },
      "source": [
        "df['initial_list_status'].value_counts()"
      ],
      "execution_count": 0,
      "outputs": [
        {
          "output_type": "execute_result",
          "data": {
            "text/plain": [
              "0    237346\n",
              "1    157873\n",
              "Name: initial_list_status, dtype: int64"
            ]
          },
          "metadata": {
            "tags": []
          },
          "execution_count": 289
        }
      ]
    },
    {
      "cell_type": "code",
      "metadata": {
        "id": "CvmxR84uPtyl",
        "colab_type": "code",
        "colab": {}
      },
      "source": [
        "import tensorflow as tf\n",
        "from tensorflow.keras.models import Sequential\n",
        "from tensorflow.keras.layers import Dense,Dropout"
      ],
      "execution_count": 0,
      "outputs": []
    },
    {
      "cell_type": "code",
      "metadata": {
        "id": "QoQL6EDfP6CW",
        "colab_type": "code",
        "colab": {}
      },
      "source": [
        "from sklearn.model_selection import train_test_split\n"
      ],
      "execution_count": 0,
      "outputs": []
    },
    {
      "cell_type": "code",
      "metadata": {
        "id": "dCzcsim5P8Z3",
        "colab_type": "code",
        "colab": {}
      },
      "source": [
        "X = df.drop('loan_repaid',axis=1).values"
      ],
      "execution_count": 0,
      "outputs": []
    },
    {
      "cell_type": "code",
      "metadata": {
        "id": "RV-q57ugQBL2",
        "colab_type": "code",
        "outputId": "5d5272c3-e76a-4e6f-f87f-dcb2181a30de",
        "colab": {
          "base_uri": "https://localhost:8080/",
          "height": 36
        }
      },
      "source": [
        "X.shape"
      ],
      "execution_count": 0,
      "outputs": [
        {
          "output_type": "execute_result",
          "data": {
            "text/plain": [
              "(395219, 21)"
            ]
          },
          "metadata": {
            "tags": []
          },
          "execution_count": 293
        }
      ]
    },
    {
      "cell_type": "code",
      "metadata": {
        "id": "07GXOTF_QNHp",
        "colab_type": "code",
        "colab": {}
      },
      "source": [
        "y=df['loan_repaid'].values"
      ],
      "execution_count": 0,
      "outputs": []
    },
    {
      "cell_type": "code",
      "metadata": {
        "id": "_P16mJ9SQPvn",
        "colab_type": "code",
        "colab": {}
      },
      "source": [
        "X_train,X_test,y_train,y_test = train_test_split(X,y,test_size = 0.2,random_state=42)"
      ],
      "execution_count": 0,
      "outputs": []
    },
    {
      "cell_type": "code",
      "metadata": {
        "id": "uFHYu-ScQRJn",
        "colab_type": "code",
        "colab": {}
      },
      "source": [
        "from sklearn.preprocessing import MinMaxScaler\n",
        "scaler = MinMaxScaler()"
      ],
      "execution_count": 0,
      "outputs": []
    },
    {
      "cell_type": "code",
      "metadata": {
        "id": "Qr85G-34QSYW",
        "colab_type": "code",
        "colab": {}
      },
      "source": [
        "X_train = scaler.fit_transform(X_train)"
      ],
      "execution_count": 0,
      "outputs": []
    },
    {
      "cell_type": "code",
      "metadata": {
        "id": "1yb6z898QTh1",
        "colab_type": "code",
        "colab": {}
      },
      "source": [
        "X_test = scaler.transform(X_test)"
      ],
      "execution_count": 0,
      "outputs": []
    },
    {
      "cell_type": "code",
      "metadata": {
        "id": "MsWuPxsDQUr2",
        "colab_type": "code",
        "colab": {}
      },
      "source": [
        "model = Sequential()\n",
        "model.add(Dense(21, activation='relu'))\n",
        "model.add(Dropout(0.25))\n",
        "model.add(Dense(15, activation='relu'))\n",
        "model.add(Dropout(0.25))\n",
        "model.add(Dense(10, activation='relu'))\n",
        "model.add(Dropout(0.25))\n",
        "model.add(Dense(8, activation='relu'))\n",
        "model.add(Dropout(0.25))\n",
        "\n",
        "model.add(Dense(1,activation='sigmoid'))\n",
        "\n",
        "model.compile(loss = 'binary_crossentropy',optimizer='adam')\n"
      ],
      "execution_count": 0,
      "outputs": []
    },
    {
      "cell_type": "code",
      "metadata": {
        "id": "FeihDlOOQdpm",
        "colab_type": "code",
        "colab": {}
      },
      "source": [
        "from tensorflow.keras.callbacks import EarlyStopping"
      ],
      "execution_count": 0,
      "outputs": []
    },
    {
      "cell_type": "code",
      "metadata": {
        "id": "sy67uTurQmZ3",
        "colab_type": "code",
        "colab": {}
      },
      "source": [
        "early_stop=EarlyStopping(monitor='val_loss',mode = 'min',verbose=1,patience=11)"
      ],
      "execution_count": 0,
      "outputs": []
    },
    {
      "cell_type": "code",
      "metadata": {
        "id": "p4NktcSJQnaF",
        "colab_type": "code",
        "outputId": "670a112f-6d06-4e32-d58d-d1192d247d1b",
        "colab": {
          "base_uri": "https://localhost:8080/",
          "height": 1000
        }
      },
      "source": [
        "\n",
        "model.fit(x=X_train,y=y_train,epochs = 55,\n",
        "          validation_data=(X_test,y_test),\n",
        "          batch_size=128,\n",
        "          callbacks=[early_stop])"
      ],
      "execution_count": 0,
      "outputs": [
        {
          "output_type": "stream",
          "text": [
            "Epoch 1/55\n",
            "2471/2471 [==============================] - 5s 2ms/step - loss: 0.4651 - val_loss: 0.3542\n",
            "Epoch 2/55\n",
            "2471/2471 [==============================] - 5s 2ms/step - loss: 0.3717 - val_loss: 0.3327\n",
            "Epoch 3/55\n",
            "2471/2471 [==============================] - 6s 2ms/step - loss: 0.3520 - val_loss: 0.3127\n",
            "Epoch 4/55\n",
            "2471/2471 [==============================] - 6s 2ms/step - loss: 0.3408 - val_loss: 0.3000\n",
            "Epoch 5/55\n",
            "2471/2471 [==============================] - 5s 2ms/step - loss: 0.3309 - val_loss: 0.2927\n",
            "Epoch 6/55\n",
            "2471/2471 [==============================] - 5s 2ms/step - loss: 0.3275 - val_loss: 0.2900\n",
            "Epoch 7/55\n",
            "2471/2471 [==============================] - 5s 2ms/step - loss: 0.3244 - val_loss: 0.2872\n",
            "Epoch 8/55\n",
            "2471/2471 [==============================] - 5s 2ms/step - loss: 0.3229 - val_loss: 0.2892\n",
            "Epoch 9/55\n",
            "2471/2471 [==============================] - 5s 2ms/step - loss: 0.3206 - val_loss: 0.2931\n",
            "Epoch 10/55\n",
            "2471/2471 [==============================] - 5s 2ms/step - loss: 0.3201 - val_loss: 0.2858\n",
            "Epoch 11/55\n",
            "2471/2471 [==============================] - 5s 2ms/step - loss: 0.3187 - val_loss: 0.2800\n",
            "Epoch 12/55\n",
            "2471/2471 [==============================] - 5s 2ms/step - loss: 0.3213 - val_loss: 0.2870\n",
            "Epoch 13/55\n",
            "2471/2471 [==============================] - 5s 2ms/step - loss: 0.3177 - val_loss: 0.2874\n",
            "Epoch 14/55\n",
            "2471/2471 [==============================] - 5s 2ms/step - loss: 0.3201 - val_loss: 0.2814\n",
            "Epoch 15/55\n",
            "2471/2471 [==============================] - 5s 2ms/step - loss: 0.3177 - val_loss: 0.2836\n",
            "Epoch 16/55\n",
            "2471/2471 [==============================] - 5s 2ms/step - loss: 0.3156 - val_loss: 0.2826\n",
            "Epoch 17/55\n",
            "2471/2471 [==============================] - 8s 3ms/step - loss: 0.3178 - val_loss: 0.2794\n",
            "Epoch 18/55\n",
            "2471/2471 [==============================] - 6s 3ms/step - loss: 0.3170 - val_loss: 0.2821\n",
            "Epoch 19/55\n",
            "2471/2471 [==============================] - 5s 2ms/step - loss: 0.3157 - val_loss: 0.2822\n",
            "Epoch 20/55\n",
            "2471/2471 [==============================] - 5s 2ms/step - loss: 0.3180 - val_loss: 0.2871\n",
            "Epoch 21/55\n",
            "2471/2471 [==============================] - 5s 2ms/step - loss: 0.3171 - val_loss: 0.2786\n",
            "Epoch 22/55\n",
            "2471/2471 [==============================] - 5s 2ms/step - loss: 0.3158 - val_loss: 0.2853\n",
            "Epoch 23/55\n",
            "2471/2471 [==============================] - 5s 2ms/step - loss: 0.3158 - val_loss: 0.2805\n",
            "Epoch 24/55\n",
            "2471/2471 [==============================] - 5s 2ms/step - loss: 0.3182 - val_loss: 0.2834\n",
            "Epoch 25/55\n",
            "2471/2471 [==============================] - 5s 2ms/step - loss: 0.3146 - val_loss: 0.2823\n",
            "Epoch 26/55\n",
            "2471/2471 [==============================] - 5s 2ms/step - loss: 0.3151 - val_loss: 0.2803\n",
            "Epoch 27/55\n",
            "2471/2471 [==============================] - 5s 2ms/step - loss: 0.3153 - val_loss: 0.2809\n",
            "Epoch 28/55\n",
            "2471/2471 [==============================] - 5s 2ms/step - loss: 0.3157 - val_loss: 0.2785\n",
            "Epoch 29/55\n",
            "2471/2471 [==============================] - 5s 2ms/step - loss: 0.3150 - val_loss: 0.2822\n",
            "Epoch 30/55\n",
            "2471/2471 [==============================] - 5s 2ms/step - loss: 0.3140 - val_loss: 0.2801\n",
            "Epoch 31/55\n",
            "2471/2471 [==============================] - 5s 2ms/step - loss: 0.3138 - val_loss: 0.2799\n",
            "Epoch 32/55\n",
            "2471/2471 [==============================] - 5s 2ms/step - loss: 0.3143 - val_loss: 0.2778\n",
            "Epoch 33/55\n",
            "2471/2471 [==============================] - 5s 2ms/step - loss: 0.3129 - val_loss: 0.2792\n",
            "Epoch 34/55\n",
            "2471/2471 [==============================] - 5s 2ms/step - loss: 0.3131 - val_loss: 0.2820\n",
            "Epoch 35/55\n",
            "2471/2471 [==============================] - 5s 2ms/step - loss: 0.3131 - val_loss: 0.2796\n",
            "Epoch 36/55\n",
            "2471/2471 [==============================] - 5s 2ms/step - loss: 0.3105 - val_loss: 0.2773\n",
            "Epoch 37/55\n",
            "2471/2471 [==============================] - 5s 2ms/step - loss: 0.3121 - val_loss: 0.2822\n",
            "Epoch 38/55\n",
            "2471/2471 [==============================] - 5s 2ms/step - loss: 0.3107 - val_loss: 0.2816\n",
            "Epoch 39/55\n",
            "2471/2471 [==============================] - 5s 2ms/step - loss: 0.3100 - val_loss: 0.2819\n",
            "Epoch 40/55\n",
            "2471/2471 [==============================] - 5s 2ms/step - loss: 0.3098 - val_loss: 0.2816\n",
            "Epoch 41/55\n",
            "2471/2471 [==============================] - 5s 2ms/step - loss: 0.3119 - val_loss: 0.2804\n",
            "Epoch 42/55\n",
            "2471/2471 [==============================] - 5s 2ms/step - loss: 0.3109 - val_loss: 0.2801\n",
            "Epoch 43/55\n",
            "2471/2471 [==============================] - 5s 2ms/step - loss: 0.3084 - val_loss: 0.2779\n",
            "Epoch 44/55\n",
            "2471/2471 [==============================] - 6s 2ms/step - loss: 0.3091 - val_loss: 0.2816\n",
            "Epoch 45/55\n",
            "2471/2471 [==============================] - 5s 2ms/step - loss: 0.3101 - val_loss: 0.2800\n",
            "Epoch 46/55\n",
            "2471/2471 [==============================] - 5s 2ms/step - loss: 0.3077 - val_loss: 0.2814\n",
            "Epoch 47/55\n",
            "2471/2471 [==============================] - 5s 2ms/step - loss: 0.3078 - val_loss: 0.2799\n",
            "Epoch 00047: early stopping\n"
          ],
          "name": "stdout"
        },
        {
          "output_type": "execute_result",
          "data": {
            "text/plain": [
              "<tensorflow.python.keras.callbacks.History at 0x7fdfd5432550>"
            ]
          },
          "metadata": {
            "tags": []
          },
          "execution_count": 302
        }
      ]
    },
    {
      "cell_type": "code",
      "metadata": {
        "id": "sEbU9t4BQsK4",
        "colab_type": "code",
        "outputId": "2c00483d-f7fb-461b-bbf8-b547647af317",
        "colab": {
          "base_uri": "https://localhost:8080/",
          "height": 284
        }
      },
      "source": [
        "loss1 = pd.DataFrame(model.history.history)\n",
        "loss1.plot()"
      ],
      "execution_count": 0,
      "outputs": [
        {
          "output_type": "execute_result",
          "data": {
            "text/plain": [
              "<matplotlib.axes._subplots.AxesSubplot at 0x7fdfd492e828>"
            ]
          },
          "metadata": {
            "tags": []
          },
          "execution_count": 303
        },
        {
          "output_type": "display_data",
          "data": {
            "image/png": "[encoded data removed]",
            "text/plain": [
              "<Figure size 432x288 with 1 Axes>"
            ]
          },
          "metadata": {
            "tags": [],
            "needs_background": "light"
          }
        }
      ]
    },
    {
      "cell_type": "code",
      "metadata": {
        "id": "QJxtzU-3Rnfn",
        "colab_type": "code",
        "colab": {}
      },
      "source": [
        "from sklearn.metrics import classification_report,confusion_matrix"
      ],
      "execution_count": 0,
      "outputs": []
    },
    {
      "cell_type": "code",
      "metadata": {
        "id": "60CNu0MJRwEn",
        "colab_type": "code",
        "colab": {}
      },
      "source": [
        "predictions = model.predict_classes(X_test)"
      ],
      "execution_count": 0,
      "outputs": []
    },
    {
      "cell_type": "code",
      "metadata": {
        "id": "UnqmC6rHRxVX",
        "colab_type": "code",
        "outputId": "c612cb59-b2cf-48ca-ec50-183b9bb964f1",
        "colab": {
          "base_uri": "https://localhost:8080/",
          "height": 184
        }
      },
      "source": [
        "print(classification_report(y_test,predictions))"
      ],
      "execution_count": 0,
      "outputs": [
        {
          "output_type": "stream",
          "text": [
            "              precision    recall  f1-score   support\n",
            "\n",
            "           0       1.00      0.43      0.60     15421\n",
            "           1       0.88      1.00      0.93     63623\n",
            "\n",
            "    accuracy                           0.89     79044\n",
            "   macro avg       0.94      0.71      0.77     79044\n",
            "weighted avg       0.90      0.89      0.87     79044\n",
            "\n"
          ],
          "name": "stdout"
        }
      ]
    },
    {
      "cell_type": "code",
      "metadata": {
        "id": "O_eoCfXkRyh3",
        "colab_type": "code",
        "colab": {}
      },
      "source": [
        "model = Sequential()\n",
        "model.add(Dense(21, activation='relu'))\n",
        "model.add(Dropout(0.25))\n",
        "model.add(Dense(15, activation='relu'))\n",
        "model.add(Dropout(0.25))\n",
        "model.add(Dense(10, activation='relu'))\n",
        "model.add(Dropout(0.25))\n",
        "\n",
        "model.add(Dense(1,activation='sigmoid'))\n",
        "\n",
        "model.compile(loss = 'binary_crossentropy',optimizer='adam')"
      ],
      "execution_count": 0,
      "outputs": []
    },
    {
      "cell_type": "code",
      "metadata": {
        "id": "ueeWWAMFR8yY",
        "colab_type": "code",
        "outputId": "90131670-ba8c-4c5c-f94e-d33d7aefa21b",
        "colab": {
          "base_uri": "https://localhost:8080/",
          "height": 1000
        }
      },
      "source": [
        "\n",
        "model.fit(x=X_train,y=y_train,epochs = 55,\n",
        "          validation_data=(X_test,y_test),\n",
        "          batch_size=256,\n",
        "          callbacks=[early_stop])"
      ],
      "execution_count": 0,
      "outputs": [
        {
          "output_type": "stream",
          "text": [
            "Epoch 1/55\n",
            "1236/1236 [==============================] - 3s 2ms/step - loss: 0.4488 - val_loss: 0.3933\n",
            "Epoch 2/55\n",
            "1236/1236 [==============================] - 3s 2ms/step - loss: 0.3922 - val_loss: 0.3619\n",
            "Epoch 3/55\n",
            "1236/1236 [==============================] - 3s 2ms/step - loss: 0.3688 - val_loss: 0.3395\n",
            "Epoch 4/55\n",
            "1236/1236 [==============================] - 3s 2ms/step - loss: 0.3467 - val_loss: 0.3285\n",
            "Epoch 5/55\n",
            "1236/1236 [==============================] - 3s 2ms/step - loss: 0.3399 - val_loss: 0.3265\n",
            "Epoch 6/55\n",
            "1236/1236 [==============================] - 3s 2ms/step - loss: 0.3374 - val_loss: 0.3240\n",
            "Epoch 7/55\n",
            "1236/1236 [==============================] - 3s 2ms/step - loss: 0.3335 - val_loss: 0.3250\n",
            "Epoch 8/55\n",
            "1236/1236 [==============================] - 3s 2ms/step - loss: 0.3308 - val_loss: 0.3190\n",
            "Epoch 9/55\n",
            "1236/1236 [==============================] - 3s 2ms/step - loss: 0.3271 - val_loss: 0.3114\n",
            "Epoch 10/55\n",
            "1236/1236 [==============================] - 3s 2ms/step - loss: 0.3222 - val_loss: 0.3042\n",
            "Epoch 11/55\n",
            "1236/1236 [==============================] - 3s 2ms/step - loss: 0.3194 - val_loss: 0.2982\n",
            "Epoch 12/55\n",
            "1236/1236 [==============================] - 3s 2ms/step - loss: 0.3171 - val_loss: 0.2957\n",
            "Epoch 13/55\n",
            "1236/1236 [==============================] - 3s 2ms/step - loss: 0.3155 - val_loss: 0.2960\n",
            "Epoch 14/55\n",
            "1236/1236 [==============================] - 3s 2ms/step - loss: 0.3139 - val_loss: 0.2925\n",
            "Epoch 15/55\n",
            "1236/1236 [==============================] - 3s 2ms/step - loss: 0.3125 - val_loss: 0.2920\n",
            "Epoch 16/55\n",
            "1236/1236 [==============================] - 3s 2ms/step - loss: 0.3112 - val_loss: 0.2891\n",
            "Epoch 17/55\n",
            "1236/1236 [==============================] - 3s 2ms/step - loss: 0.3090 - val_loss: 0.2862\n",
            "Epoch 18/55\n",
            "1236/1236 [==============================] - 3s 2ms/step - loss: 0.3084 - val_loss: 0.2848\n",
            "Epoch 19/55\n",
            "1236/1236 [==============================] - 3s 2ms/step - loss: 0.3080 - val_loss: 0.2850\n",
            "Epoch 20/55\n",
            "1236/1236 [==============================] - 3s 2ms/step - loss: 0.3075 - val_loss: 0.2846\n",
            "Epoch 21/55\n",
            "1236/1236 [==============================] - 3s 2ms/step - loss: 0.3070 - val_loss: 0.2838\n",
            "Epoch 22/55\n",
            "1236/1236 [==============================] - 3s 2ms/step - loss: 0.3068 - val_loss: 0.2839\n",
            "Epoch 23/55\n",
            "1236/1236 [==============================] - 3s 2ms/step - loss: 0.3068 - val_loss: 0.2856\n",
            "Epoch 24/55\n",
            "1236/1236 [==============================] - 3s 2ms/step - loss: 0.3060 - val_loss: 0.2840\n",
            "Epoch 25/55\n",
            "1236/1236 [==============================] - 3s 2ms/step - loss: 0.3069 - val_loss: 0.2838\n",
            "Epoch 26/55\n",
            "1236/1236 [==============================] - 3s 2ms/step - loss: 0.3055 - val_loss: 0.2823\n",
            "Epoch 27/55\n",
            "1236/1236 [==============================] - 3s 2ms/step - loss: 0.3050 - val_loss: 0.2824\n",
            "Epoch 28/55\n",
            "1236/1236 [==============================] - 3s 2ms/step - loss: 0.3048 - val_loss: 0.2827\n",
            "Epoch 29/55\n",
            "1236/1236 [==============================] - 3s 2ms/step - loss: 0.3049 - val_loss: 0.2825\n",
            "Epoch 30/55\n",
            "1236/1236 [==============================] - 3s 2ms/step - loss: 0.3039 - val_loss: 0.2799\n",
            "Epoch 31/55\n",
            "1236/1236 [==============================] - 3s 2ms/step - loss: 0.3038 - val_loss: 0.2821\n",
            "Epoch 32/55\n",
            "1236/1236 [==============================] - 3s 2ms/step - loss: 0.3035 - val_loss: 0.2811\n",
            "Epoch 33/55\n",
            "1236/1236 [==============================] - 3s 2ms/step - loss: 0.3036 - val_loss: 0.2782\n",
            "Epoch 34/55\n",
            "1236/1236 [==============================] - 3s 2ms/step - loss: 0.3035 - val_loss: 0.2810\n",
            "Epoch 35/55\n",
            "1236/1236 [==============================] - 3s 2ms/step - loss: 0.3031 - val_loss: 0.2810\n",
            "Epoch 36/55\n",
            "1236/1236 [==============================] - 3s 2ms/step - loss: 0.3029 - val_loss: 0.2792\n",
            "Epoch 37/55\n",
            "1236/1236 [==============================] - 3s 2ms/step - loss: 0.3032 - val_loss: 0.2804\n",
            "Epoch 38/55\n",
            "1236/1236 [==============================] - 3s 2ms/step - loss: 0.3024 - val_loss: 0.2797\n",
            "Epoch 39/55\n",
            "1236/1236 [==============================] - 3s 2ms/step - loss: 0.3022 - val_loss: 0.2809\n",
            "Epoch 40/55\n",
            "1236/1236 [==============================] - 3s 2ms/step - loss: 0.3025 - val_loss: 0.2806\n",
            "Epoch 41/55\n",
            "1236/1236 [==============================] - 3s 2ms/step - loss: 0.3020 - val_loss: 0.2788\n",
            "Epoch 42/55\n",
            "1236/1236 [==============================] - 3s 2ms/step - loss: 0.3004 - val_loss: 0.2787\n",
            "Epoch 43/55\n",
            "1236/1236 [==============================] - 3s 2ms/step - loss: 0.3006 - val_loss: 0.2776\n",
            "Epoch 44/55\n",
            "1236/1236 [==============================] - 3s 2ms/step - loss: 0.2998 - val_loss: 0.2779\n",
            "Epoch 45/55\n",
            "1236/1236 [==============================] - 3s 2ms/step - loss: 0.3002 - val_loss: 0.2794\n",
            "Epoch 46/55\n",
            "1236/1236 [==============================] - 3s 2ms/step - loss: 0.3005 - val_loss: 0.2797\n",
            "Epoch 47/55\n",
            "1236/1236 [==============================] - 3s 2ms/step - loss: 0.2990 - val_loss: 0.2790\n",
            "Epoch 48/55\n",
            "1236/1236 [==============================] - 3s 2ms/step - loss: 0.2998 - val_loss: 0.2782\n",
            "Epoch 49/55\n",
            "1236/1236 [==============================] - 2s 2ms/step - loss: 0.2992 - val_loss: 0.2775\n",
            "Epoch 50/55\n",
            "1236/1236 [==============================] - 3s 2ms/step - loss: 0.2998 - val_loss: 0.2777\n",
            "Epoch 51/55\n",
            "1236/1236 [==============================] - 3s 2ms/step - loss: 0.2994 - val_loss: 0.2775\n",
            "Epoch 52/55\n",
            "1236/1236 [==============================] - 3s 2ms/step - loss: 0.2996 - val_loss: 0.2771\n",
            "Epoch 53/55\n",
            "1236/1236 [==============================] - 3s 2ms/step - loss: 0.2986 - val_loss: 0.2769\n",
            "Epoch 54/55\n",
            "1236/1236 [==============================] - 3s 2ms/step - loss: 0.2996 - val_loss: 0.2767\n",
            "Epoch 55/55\n",
            "1236/1236 [==============================] - 3s 2ms/step - loss: 0.2990 - val_loss: 0.2784\n"
          ],
          "name": "stdout"
        },
        {
          "output_type": "execute_result",
          "data": {
            "text/plain": [
              "<tensorflow.python.keras.callbacks.History at 0x7fdfd7aecc88>"
            ]
          },
          "metadata": {
            "tags": []
          },
          "execution_count": 308
        }
      ]
    },
    {
      "cell_type": "code",
      "metadata": {
        "id": "kgz6ltYTR_8K",
        "colab_type": "code",
        "outputId": "29ddb6c4-7e64-46f2-9341-385e0fb9d5d8",
        "colab": {
          "base_uri": "https://localhost:8080/",
          "height": 284
        }
      },
      "source": [
        "loss1 = pd.DataFrame(model.history.history)\n",
        "loss1.plot()"
      ],
      "execution_count": 0,
      "outputs": [
        {
          "output_type": "execute_result",
          "data": {
            "text/plain": [
              "<matplotlib.axes._subplots.AxesSubplot at 0x7fdfcf3d0ba8>"
            ]
          },
          "metadata": {
            "tags": []
          },
          "execution_count": 309
        },
        {
          "output_type": "display_data",
          "data": {
            "image/png": "[encoded data removed]",
            "text/plain": [
              "<Figure size 432x288 with 1 Axes>"
            ]
          },
          "metadata": {
            "tags": [],
            "needs_background": "light"
          }
        }
      ]
    },
    {
      "cell_type": "code",
      "metadata": {
        "id": "1OiPwqO0SpTp",
        "colab_type": "code",
        "colab": {}
      },
      "source": [
        "predictions = model.predict_classes(X_test)\n"
      ],
      "execution_count": 0,
      "outputs": []
    },
    {
      "cell_type": "code",
      "metadata": {
        "id": "mACIC3nDS90X",
        "colab_type": "code",
        "outputId": "390a8f1e-63db-4de4-d189-bbe5dc6b32b7",
        "colab": {
          "base_uri": "https://localhost:8080/",
          "height": 184
        }
      },
      "source": [
        "print(classification_report(y_test,predictions))"
      ],
      "execution_count": 0,
      "outputs": [
        {
          "output_type": "stream",
          "text": [
            "              precision    recall  f1-score   support\n",
            "\n",
            "           0       1.00      0.43      0.60     15421\n",
            "           1       0.88      1.00      0.94     63623\n",
            "\n",
            "    accuracy                           0.89     79044\n",
            "   macro avg       0.94      0.71      0.77     79044\n",
            "weighted avg       0.90      0.89      0.87     79044\n",
            "\n"
          ],
          "name": "stdout"
        }
      ]
    },
    {
      "cell_type": "code",
      "metadata": {
        "id": "cIPgc7thXEQD",
        "colab_type": "code",
        "outputId": "b87ffeae-f92e-4245-d965-12791dd86b9a",
        "colab": {
          "base_uri": "https://localhost:8080/",
          "height": 54
        }
      },
      "source": [
        "confusion_matrix(y_test,predictions)"
      ],
      "execution_count": 0,
      "outputs": [
        {
          "output_type": "execute_result",
          "data": {
            "text/plain": [
              "array([[ 6616,  8805],\n",
              "       [    2, 63621]])"
            ]
          },
          "metadata": {
            "tags": []
          },
          "execution_count": 312
        }
      ]
    },
    {
      "cell_type": "code",
      "metadata": {
        "id": "qGJvMmDIWg--",
        "colab_type": "code",
        "colab": {}
      },
      "source": [
        "model = Sequential()\n",
        "model.add(Dense(21, activation='relu'))\n",
        "model.add(Dropout(0.25))\n",
        "model.add(Dense(30, activation='relu'))\n",
        "model.add(Dropout(0.25))\n",
        "model.add(Dense(15, activation='relu'))\n",
        "model.add(Dropout(0.25))\n",
        "model.add(Dense(10, activation='relu'))\n",
        "model.add(Dropout(0.25))\n",
        "model.add(Dense(5, activation='relu'))\n",
        "model.add(Dropout(0.25))\n",
        "\n",
        "model.add(Dense(1,activation='sigmoid'))\n",
        "\n",
        "model.compile(loss = 'binary_crossentropy',optimizer='adam')"
      ],
      "execution_count": 0,
      "outputs": []
    },
    {
      "cell_type": "code",
      "metadata": {
        "id": "ZzxBo99oWynI",
        "colab_type": "code",
        "outputId": "02ca8a79-c0d4-4325-87d5-590ba94a72ed",
        "colab": {
          "base_uri": "https://localhost:8080/",
          "height": 1000
        }
      },
      "source": [
        "\n",
        "model.fit(x=X_train,y=y_train,epochs = 55,\n",
        "          validation_data=(X_test,y_test),\n",
        "          batch_size=256,\n",
        "          callbacks=[early_stop])"
      ],
      "execution_count": 0,
      "outputs": [
        {
          "output_type": "stream",
          "text": [
            "Epoch 1/55\n",
            "1236/1236 [==============================] - 3s 3ms/step - loss: 0.4681 - val_loss: 0.4064\n",
            "Epoch 2/55\n",
            "1236/1236 [==============================] - 3s 3ms/step - loss: 0.3921 - val_loss: 0.3338\n",
            "Epoch 3/55\n",
            "1236/1236 [==============================] - 3s 3ms/step - loss: 0.3620 - val_loss: 0.3277\n",
            "Epoch 4/55\n",
            "1236/1236 [==============================] - 3s 3ms/step - loss: 0.3577 - val_loss: 0.3286\n",
            "Epoch 5/55\n",
            "1236/1236 [==============================] - 3s 2ms/step - loss: 0.3544 - val_loss: 0.3244\n",
            "Epoch 6/55\n",
            "1236/1236 [==============================] - 3s 3ms/step - loss: 0.3506 - val_loss: 0.3166\n",
            "Epoch 7/55\n",
            "1236/1236 [==============================] - 3s 3ms/step - loss: 0.3464 - val_loss: 0.3109\n",
            "Epoch 8/55\n",
            "1236/1236 [==============================] - 3s 2ms/step - loss: 0.3407 - val_loss: 0.3062\n",
            "Epoch 9/55\n",
            "1236/1236 [==============================] - 3s 2ms/step - loss: 0.3359 - val_loss: 0.2947\n",
            "Epoch 10/55\n",
            "1236/1236 [==============================] - 3s 2ms/step - loss: 0.3317 - val_loss: 0.2980\n",
            "Epoch 11/55\n",
            "1236/1236 [==============================] - 3s 2ms/step - loss: 0.3291 - val_loss: 0.2926\n",
            "Epoch 12/55\n",
            "1236/1236 [==============================] - 3s 2ms/step - loss: 0.3270 - val_loss: 0.2848\n",
            "Epoch 13/55\n",
            "1236/1236 [==============================] - 3s 2ms/step - loss: 0.3251 - val_loss: 0.2862\n",
            "Epoch 14/55\n",
            "1236/1236 [==============================] - 3s 3ms/step - loss: 0.3234 - val_loss: 0.2852\n",
            "Epoch 15/55\n",
            "1236/1236 [==============================] - 3s 2ms/step - loss: 0.3231 - val_loss: 0.2830\n",
            "Epoch 16/55\n",
            "1236/1236 [==============================] - 3s 2ms/step - loss: 0.3211 - val_loss: 0.2830\n",
            "Epoch 17/55\n",
            "1236/1236 [==============================] - 3s 2ms/step - loss: 0.3196 - val_loss: 0.2803\n",
            "Epoch 18/55\n",
            "1236/1236 [==============================] - 3s 2ms/step - loss: 0.3170 - val_loss: 0.2858\n",
            "Epoch 19/55\n",
            "1236/1236 [==============================] - 3s 2ms/step - loss: 0.3182 - val_loss: 0.2795\n",
            "Epoch 20/55\n",
            "1236/1236 [==============================] - 3s 2ms/step - loss: 0.3166 - val_loss: 0.2782\n",
            "Epoch 21/55\n",
            "1236/1236 [==============================] - 3s 2ms/step - loss: 0.3155 - val_loss: 0.2844\n",
            "Epoch 22/55\n",
            "1236/1236 [==============================] - 3s 3ms/step - loss: 0.3150 - val_loss: 0.2863\n",
            "Epoch 23/55\n",
            "1236/1236 [==============================] - 3s 3ms/step - loss: 0.3149 - val_loss: 0.2752\n",
            "Epoch 24/55\n",
            "1236/1236 [==============================] - 3s 3ms/step - loss: 0.3122 - val_loss: 0.2781\n",
            "Epoch 25/55\n",
            "1236/1236 [==============================] - 3s 2ms/step - loss: 0.3106 - val_loss: 0.2740\n",
            "Epoch 26/55\n",
            "1236/1236 [==============================] - 3s 2ms/step - loss: 0.3113 - val_loss: 0.2688\n",
            "Epoch 27/55\n",
            "1236/1236 [==============================] - 3s 2ms/step - loss: 0.3083 - val_loss: 0.2697\n",
            "Epoch 28/55\n",
            "1236/1236 [==============================] - 3s 2ms/step - loss: 0.3079 - val_loss: 0.2663\n",
            "Epoch 29/55\n",
            "1236/1236 [==============================] - 3s 2ms/step - loss: 0.3075 - val_loss: 0.2669\n",
            "Epoch 30/55\n",
            "1236/1236 [==============================] - 3s 2ms/step - loss: 0.3069 - val_loss: 0.2682\n",
            "Epoch 31/55\n",
            "1236/1236 [==============================] - 3s 2ms/step - loss: 0.3060 - val_loss: 0.2691\n",
            "Epoch 32/55\n",
            "1236/1236 [==============================] - 3s 2ms/step - loss: 0.3068 - val_loss: 0.2676\n",
            "Epoch 33/55\n",
            "1236/1236 [==============================] - 3s 2ms/step - loss: 0.3072 - val_loss: 0.2677\n",
            "Epoch 34/55\n",
            "1236/1236 [==============================] - 3s 2ms/step - loss: 0.3053 - val_loss: 0.2657\n",
            "Epoch 35/55\n",
            "1236/1236 [==============================] - 3s 2ms/step - loss: 0.3060 - val_loss: 0.2689\n",
            "Epoch 36/55\n",
            "1236/1236 [==============================] - 3s 3ms/step - loss: 0.3038 - val_loss: 0.2646\n",
            "Epoch 37/55\n",
            "1236/1236 [==============================] - 3s 2ms/step - loss: 0.3040 - val_loss: 0.2640\n",
            "Epoch 38/55\n",
            "1236/1236 [==============================] - 3s 3ms/step - loss: 0.3055 - val_loss: 0.2646\n",
            "Epoch 39/55\n",
            "1236/1236 [==============================] - 3s 2ms/step - loss: 0.3041 - val_loss: 0.2658\n",
            "Epoch 40/55\n",
            "1236/1236 [==============================] - 3s 3ms/step - loss: 0.3041 - val_loss: 0.2666\n",
            "Epoch 41/55\n",
            "1236/1236 [==============================] - 3s 3ms/step - loss: 0.3054 - val_loss: 0.2636\n",
            "Epoch 42/55\n",
            "1236/1236 [==============================] - 3s 2ms/step - loss: 0.3046 - val_loss: 0.2655\n",
            "Epoch 43/55\n",
            "1236/1236 [==============================] - 3s 3ms/step - loss: 0.3044 - val_loss: 0.2658\n",
            "Epoch 44/55\n",
            "1236/1236 [==============================] - 3s 3ms/step - loss: 0.3040 - val_loss: 0.2644\n",
            "Epoch 45/55\n",
            "1236/1236 [==============================] - 3s 3ms/step - loss: 0.3033 - val_loss: 0.2650\n",
            "Epoch 46/55\n",
            "1236/1236 [==============================] - 3s 3ms/step - loss: 0.3039 - val_loss: 0.2639\n",
            "Epoch 47/55\n",
            "1236/1236 [==============================] - 3s 3ms/step - loss: 0.3043 - val_loss: 0.2694\n",
            "Epoch 48/55\n",
            "1236/1236 [==============================] - 3s 2ms/step - loss: 0.3047 - val_loss: 0.2660\n",
            "Epoch 49/55\n",
            "1236/1236 [==============================] - 3s 2ms/step - loss: 0.3046 - val_loss: 0.2632\n",
            "Epoch 50/55\n",
            "1236/1236 [==============================] - 3s 2ms/step - loss: 0.3024 - val_loss: 0.2639\n",
            "Epoch 51/55\n",
            "1236/1236 [==============================] - 3s 2ms/step - loss: 0.3027 - val_loss: 0.2658\n",
            "Epoch 52/55\n",
            "1236/1236 [==============================] - 3s 2ms/step - loss: 0.3031 - val_loss: 0.2672\n",
            "Epoch 53/55\n",
            "1236/1236 [==============================] - 3s 2ms/step - loss: 0.3040 - val_loss: 0.2651\n",
            "Epoch 54/55\n",
            "1236/1236 [==============================] - 3s 2ms/step - loss: 0.3021 - val_loss: 0.2709\n",
            "Epoch 55/55\n",
            "1236/1236 [==============================] - 3s 2ms/step - loss: 0.3031 - val_loss: 0.2663\n"
          ],
          "name": "stdout"
        },
        {
          "output_type": "execute_result",
          "data": {
            "text/plain": [
              "<tensorflow.python.keras.callbacks.History at 0x7fdfceba5cf8>"
            ]
          },
          "metadata": {
            "tags": []
          },
          "execution_count": 314
        }
      ]
    },
    {
      "cell_type": "code",
      "metadata": {
        "id": "bavGgcqjW15X",
        "colab_type": "code",
        "outputId": "96e16278-2454-462d-86ca-95e9ece38b6e",
        "colab": {
          "base_uri": "https://localhost:8080/",
          "height": 284
        }
      },
      "source": [
        "loss1 = pd.DataFrame(model.history.history)\n",
        "loss1.plot()"
      ],
      "execution_count": 0,
      "outputs": [
        {
          "output_type": "execute_result",
          "data": {
            "text/plain": [
              "<matplotlib.axes._subplots.AxesSubplot at 0x7fdfd083b160>"
            ]
          },
          "metadata": {
            "tags": []
          },
          "execution_count": 315
        },
        {
          "output_type": "display_data",
          "data": {
            "image/png": "[encoded data removed]",
            "text/plain": [
              "<Figure size 432x288 with 1 Axes>"
            ]
          },
          "metadata": {
            "tags": [],
            "needs_background": "light"
          }
        }
      ]
    },
    {
      "cell_type": "code",
      "metadata": {
        "id": "IYsKvSw4XRt2",
        "colab_type": "code",
        "colab": {}
      },
      "source": [
        "predictions = model.predict_classes(X_test)"
      ],
      "execution_count": 0,
      "outputs": []
    },
    {
      "cell_type": "code",
      "metadata": {
        "id": "fVtDQk8PXmyX",
        "colab_type": "code",
        "outputId": "38202221-8e92-42e5-f44d-38634acb7e1d",
        "colab": {
          "base_uri": "https://localhost:8080/",
          "height": 184
        }
      },
      "source": [
        "print(classification_report(y_test,predictions))"
      ],
      "execution_count": 0,
      "outputs": [
        {
          "output_type": "stream",
          "text": [
            "              precision    recall  f1-score   support\n",
            "\n",
            "           0       1.00      0.43      0.60     15421\n",
            "           1       0.88      1.00      0.94     63623\n",
            "\n",
            "    accuracy                           0.89     79044\n",
            "   macro avg       0.94      0.72      0.77     79044\n",
            "weighted avg       0.90      0.89      0.87     79044\n",
            "\n"
          ],
          "name": "stdout"
        }
      ]
    },
    {
      "cell_type": "code",
      "metadata": {
        "id": "l1bMo8sgjj-5",
        "colab_type": "code",
        "outputId": "2c509232-87e0-4373-f55f-b5e4f8a64b0a",
        "colab": {
          "base_uri": "https://localhost:8080/",
          "height": 36
        }
      },
      "source": [
        "X_train.shape"
      ],
      "execution_count": 0,
      "outputs": [
        {
          "output_type": "execute_result",
          "data": {
            "text/plain": [
              "(316175, 21)"
            ]
          },
          "metadata": {
            "tags": []
          },
          "execution_count": 319
        }
      ]
    },
    {
      "cell_type": "code",
      "metadata": {
        "id": "emMn_k5ujdOI",
        "colab_type": "code",
        "colab": {}
      },
      "source": [
        "model = Sequential()\n",
        "model.add(Dense(21, activation='relu'))\n",
        "model.add(Dropout(0.2))\n",
        "model.add(Dense(40, activation='relu'))\n",
        "model.add(Dropout(0.2))\n",
        "model.add(Dense(20, activation='relu'))\n",
        "model.add(Dropout(0.2))\n",
        "model.add(Dense(15, activation='relu'))\n",
        "model.add(Dropout(0.2))\n",
        "model.add(Dense(10, activation='relu'))\n",
        "model.add(Dropout(0.2))\n",
        "model.add(Dense(5, activation='relu'))\n",
        "model.add(Dropout(0.2))\n",
        "\n",
        "model.add(Dense(1,activation='sigmoid'))\n",
        "\n",
        "model.compile(loss = 'binary_crossentropy',optimizer='adam')"
      ],
      "execution_count": 0,
      "outputs": []
    },
    {
      "cell_type": "code",
      "metadata": {
        "id": "_XPHq3Crj0Fp",
        "colab_type": "code",
        "outputId": "b48997bb-3191-4ef7-b212-fb99f9f08a64",
        "colab": {
          "base_uri": "https://localhost:8080/",
          "height": 1000
        }
      },
      "source": [
        "\n",
        "model.fit(x=X_train,y=y_train,epochs = 55,\n",
        "          validation_data=(X_test,y_test),\n",
        "          batch_size=128,\n",
        "          callbacks=[early_stop])"
      ],
      "execution_count": 0,
      "outputs": [
        {
          "output_type": "stream",
          "text": [
            "Epoch 1/55\n",
            "2471/2471 [==============================] - 6s 2ms/step - loss: 0.4513 - val_loss: 0.3635\n",
            "Epoch 2/55\n",
            "2471/2471 [==============================] - 6s 2ms/step - loss: 0.3611 - val_loss: 0.2881\n",
            "Epoch 3/55\n",
            "2471/2471 [==============================] - 10s 4ms/step - loss: 0.3174 - val_loss: 0.2808\n",
            "Epoch 4/55\n",
            "2471/2471 [==============================] - 6s 2ms/step - loss: 0.3075 - val_loss: 0.2773\n",
            "Epoch 5/55\n",
            "2471/2471 [==============================] - 6s 2ms/step - loss: 0.3005 - val_loss: 0.2717\n",
            "Epoch 6/55\n",
            "2471/2471 [==============================] - 6s 2ms/step - loss: 0.2966 - val_loss: 0.2718\n",
            "Epoch 7/55\n",
            "2471/2471 [==============================] - 6s 2ms/step - loss: 0.2947 - val_loss: 0.2772\n",
            "Epoch 8/55\n",
            "2471/2471 [==============================] - 6s 2ms/step - loss: 0.2941 - val_loss: 0.2702\n",
            "Epoch 9/55\n",
            "2471/2471 [==============================] - 6s 2ms/step - loss: 0.2906 - val_loss: 0.2683\n",
            "Epoch 10/55\n",
            "2471/2471 [==============================] - 6s 2ms/step - loss: 0.2900 - val_loss: 0.2729\n",
            "Epoch 11/55\n",
            "2471/2471 [==============================] - 6s 2ms/step - loss: 0.2891 - val_loss: 0.2701\n",
            "Epoch 12/55\n",
            "2471/2471 [==============================] - 6s 2ms/step - loss: 0.2868 - val_loss: 0.2692\n",
            "Epoch 13/55\n",
            "2471/2471 [==============================] - 6s 2ms/step - loss: 0.2889 - val_loss: 0.2678\n",
            "Epoch 14/55\n",
            "2471/2471 [==============================] - 6s 2ms/step - loss: 0.2877 - val_loss: 0.2665\n",
            "Epoch 15/55\n",
            "2471/2471 [==============================] - 6s 2ms/step - loss: 0.2867 - val_loss: 0.2713\n",
            "Epoch 16/55\n",
            "2471/2471 [==============================] - 6s 2ms/step - loss: 0.2860 - val_loss: 0.2667\n",
            "Epoch 17/55\n",
            "2471/2471 [==============================] - 6s 2ms/step - loss: 0.2860 - val_loss: 0.2661\n",
            "Epoch 18/55\n",
            "2471/2471 [==============================] - 6s 2ms/step - loss: 0.2850 - val_loss: 0.2666\n",
            "Epoch 19/55\n",
            "2471/2471 [==============================] - 6s 2ms/step - loss: 0.2852 - val_loss: 0.2651\n",
            "Epoch 20/55\n",
            "2471/2471 [==============================] - 6s 2ms/step - loss: 0.2841 - val_loss: 0.2681\n",
            "Epoch 21/55\n",
            "2471/2471 [==============================] - 6s 2ms/step - loss: 0.2829 - val_loss: 0.2679\n",
            "Epoch 22/55\n",
            "2471/2471 [==============================] - 6s 2ms/step - loss: 0.2847 - val_loss: 0.2656\n",
            "Epoch 23/55\n",
            "2471/2471 [==============================] - 6s 2ms/step - loss: 0.2845 - val_loss: 0.2739\n",
            "Epoch 24/55\n",
            "2471/2471 [==============================] - 6s 2ms/step - loss: 0.2837 - val_loss: 0.2677\n",
            "Epoch 25/55\n",
            "2471/2471 [==============================] - 6s 2ms/step - loss: 0.2852 - val_loss: 0.2657\n",
            "Epoch 26/55\n",
            "2471/2471 [==============================] - 6s 3ms/step - loss: 0.2834 - val_loss: 0.2626\n",
            "Epoch 27/55\n",
            "2471/2471 [==============================] - 6s 2ms/step - loss: 0.2823 - val_loss: 0.2656\n",
            "Epoch 28/55\n",
            "2471/2471 [==============================] - 6s 2ms/step - loss: 0.2819 - val_loss: 0.2646\n",
            "Epoch 29/55\n",
            "2471/2471 [==============================] - 6s 2ms/step - loss: 0.2831 - val_loss: 0.2669\n",
            "Epoch 30/55\n",
            "2471/2471 [==============================] - 6s 2ms/step - loss: 0.2811 - val_loss: 0.2648\n",
            "Epoch 31/55\n",
            "2471/2471 [==============================] - 6s 2ms/step - loss: 0.2819 - val_loss: 0.2674\n",
            "Epoch 32/55\n",
            "2471/2471 [==============================] - 6s 2ms/step - loss: 0.2819 - val_loss: 0.2639\n",
            "Epoch 33/55\n",
            "2471/2471 [==============================] - 6s 2ms/step - loss: 0.2816 - val_loss: 0.2648\n",
            "Epoch 34/55\n",
            "2471/2471 [==============================] - 6s 2ms/step - loss: 0.2803 - val_loss: 0.2670\n",
            "Epoch 35/55\n",
            "2471/2471 [==============================] - 6s 2ms/step - loss: 0.2824 - val_loss: 0.2638\n",
            "Epoch 36/55\n",
            "2471/2471 [==============================] - 6s 2ms/step - loss: 0.2802 - val_loss: 0.2661\n",
            "Epoch 37/55\n",
            "2471/2471 [==============================] - 6s 2ms/step - loss: 0.2828 - val_loss: 0.2665\n",
            "Epoch 00037: early stopping\n"
          ],
          "name": "stdout"
        },
        {
          "output_type": "execute_result",
          "data": {
            "text/plain": [
              "<tensorflow.python.keras.callbacks.History at 0x7fdfd081ada0>"
            ]
          },
          "metadata": {
            "tags": []
          },
          "execution_count": 321
        }
      ]
    },
    {
      "cell_type": "code",
      "metadata": {
        "id": "nECvOKKAj3v4",
        "colab_type": "code",
        "outputId": "5c2b75d8-5078-428b-f474-ff9f15cec068",
        "colab": {
          "base_uri": "https://localhost:8080/",
          "height": 284
        }
      },
      "source": [
        "loss1 = pd.DataFrame(model.history.history)\n",
        "loss1.plot()"
      ],
      "execution_count": 0,
      "outputs": [
        {
          "output_type": "execute_result",
          "data": {
            "text/plain": [
              "<matplotlib.axes._subplots.AxesSubplot at 0x7fdfd52384a8>"
            ]
          },
          "metadata": {
            "tags": []
          },
          "execution_count": 322
        },
        {
          "output_type": "display_data",
          "data": {
            "image/png": "[encoded data removed]",
            "text/plain": [
              "<Figure size 432x288 with 1 Axes>"
            ]
          },
          "metadata": {
            "tags": [],
            "needs_background": "light"
          }
        }
      ]
    },
    {
      "cell_type": "code",
      "metadata": {
        "id": "vohzx7Ryk5O5",
        "colab_type": "code",
        "colab": {}
      },
      "source": [
        "predictions = model.predict_classes(X_test)"
      ],
      "execution_count": 0,
      "outputs": []
    },
    {
      "cell_type": "code",
      "metadata": {
        "id": "lubwQHT3k9QZ",
        "colab_type": "code",
        "outputId": "dd639d0d-0e5d-4744-a388-dd2b102e86ad",
        "colab": {
          "base_uri": "https://localhost:8080/",
          "height": 184
        }
      },
      "source": [
        "print(classification_report(y_test,predictions))"
      ],
      "execution_count": 0,
      "outputs": [
        {
          "output_type": "stream",
          "text": [
            "              precision    recall  f1-score   support\n",
            "\n",
            "           0       1.00      0.43      0.60     15421\n",
            "           1       0.88      1.00      0.94     63623\n",
            "\n",
            "    accuracy                           0.89     79044\n",
            "   macro avg       0.94      0.72      0.77     79044\n",
            "weighted avg       0.90      0.89      0.87     79044\n",
            "\n"
          ],
          "name": "stdout"
        }
      ]
    },
    {
      "cell_type": "code",
      "metadata": {
        "id": "_KYqV5Ohk_8p",
        "colab_type": "code",
        "outputId": "3fc3ee5c-d0af-4ac5-dbc6-c7cea5d40603",
        "colab": {
          "base_uri": "https://localhost:8080/",
          "height": 54
        }
      },
      "source": [
        "confusion_matrix(y_test,predictions)"
      ],
      "execution_count": 0,
      "outputs": [
        {
          "output_type": "execute_result",
          "data": {
            "text/plain": [
              "array([[ 6639,  8782],\n",
              "       [    1, 63622]])"
            ]
          },
          "metadata": {
            "tags": []
          },
          "execution_count": 325
        }
      ]
    },
    {
      "cell_type": "code",
      "metadata": {
        "id": "HT9FyMGnlhC5",
        "colab_type": "code",
        "outputId": "6f7c844a-9580-4b32-de20-91b6b845ee2c",
        "colab": {
          "base_uri": "https://localhost:8080/",
          "height": 426
        }
      },
      "source": [
        "import random\n",
        "random.seed(101)\n",
        "random_ind = random.randint(0,len(df))\n",
        "\n",
        "new_customer = df.drop('loan_repaid',axis=1).iloc[random_ind]\n",
        "new_customer"
      ],
      "execution_count": 0,
      "outputs": [
        {
          "output_type": "execute_result",
          "data": {
            "text/plain": [
              "loan_amnt               25000.00\n",
              "term                       60.00\n",
              "int_rate                   18.24\n",
              "installment               638.11\n",
              "sub_grade                  19.00\n",
              "home_ownership              3.00\n",
              "annual_inc              61665.00\n",
              "verification_status         2.00\n",
              "purpose                     2.00\n",
              "dti                        30.11\n",
              "earliest_cr_line         1996.00\n",
              "open_acc                   16.00\n",
              "pub_rec                     0.00\n",
              "revol_bal               27778.00\n",
              "revol_util                 65.50\n",
              "total_acc                  46.00\n",
              "initial_list_status         0.00\n",
              "application_type            1.00\n",
              "mort_acc                    0.00\n",
              "pub_rec_bankruptcies        0.00\n",
              "zip                         5.00\n",
              "Name: 305323, dtype: float64"
            ]
          },
          "metadata": {
            "tags": []
          },
          "execution_count": 326
        }
      ]
    },
    {
      "cell_type": "code",
      "metadata": {
        "id": "w9Wpmtqvl2a5",
        "colab_type": "code",
        "outputId": "803a2691-266b-4fb3-8622-ed00f04ed0a5",
        "colab": {
          "base_uri": "https://localhost:8080/",
          "height": 36
        }
      },
      "source": [
        "model.predict_classes(new_customer.values.reshape(1,21))"
      ],
      "execution_count": 0,
      "outputs": [
        {
          "output_type": "execute_result",
          "data": {
            "text/plain": [
              "array([[1]], dtype=int32)"
            ]
          },
          "metadata": {
            "tags": []
          },
          "execution_count": 328
        }
      ]
    },
    {
      "cell_type": "code",
      "metadata": {
        "id": "lIXrDVsXl3eY",
        "colab_type": "code",
        "outputId": "9eff9955-71aa-44b9-ee84-f8c92f0e22e6",
        "colab": {
          "base_uri": "https://localhost:8080/",
          "height": 36
        }
      },
      "source": [
        "df.iloc[random_ind]['loan_repaid']"
      ],
      "execution_count": 0,
      "outputs": [
        {
          "output_type": "execute_result",
          "data": {
            "text/plain": [
              "1.0"
            ]
          },
          "metadata": {
            "tags": []
          },
          "execution_count": 329
        }
      ]
    },
    {
      "cell_type": "code",
      "metadata": {
        "id": "SDjJNUJXl66p",
        "colab_type": "code",
        "colab": {}
      },
      "source": [
        ""
      ],
      "execution_count": 0,
      "outputs": []
    }
  ]
}